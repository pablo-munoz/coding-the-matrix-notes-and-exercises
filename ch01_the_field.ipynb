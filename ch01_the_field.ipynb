{
 "cells": [
  {
   "cell_type": "markdown",
   "metadata": {},
   "source": [
    "# Chapter 1: The Field"
   ]
  },
  {
   "cell_type": "markdown",
   "metadata": {},
   "source": [
    "Python supports complex numbers, here is an example for $3i$"
   ]
  },
  {
   "cell_type": "code",
   "execution_count": 1,
   "metadata": {},
   "outputs": [
    {
     "data": {
      "text/plain": [
       "3j"
      ]
     },
     "execution_count": 1,
     "metadata": {},
     "output_type": "execute_result"
    }
   ],
   "source": [
    "3j"
   ]
  },
  {
   "cell_type": "markdown",
   "metadata": {},
   "source": [
    "Notice that in python $j$ takes the place of $i$, also for just $i$ you do"
   ]
  },
  {
   "cell_type": "code",
   "execution_count": 2,
   "metadata": {},
   "outputs": [
    {
     "data": {
      "text/plain": [
       "1j"
      ]
     },
     "execution_count": 2,
     "metadata": {},
     "output_type": "execute_result"
    }
   ],
   "source": [
    "1j"
   ]
  },
  {
   "cell_type": "markdown",
   "metadata": {},
   "source": [
    "To avoid ambiguity with a variable that might be named *j*"
   ]
  },
  {
   "cell_type": "markdown",
   "metadata": {},
   "source": [
    "The book introduces a module with a function **plot** that is used to open a web browser with an image drawn with html vector graphics. Since I'm following the book with ipython notebook I created my own library **plotting.py** that replaces the **plot** function with one that uses matplotlib for inline display."
   ]
  },
  {
   "cell_type": "code",
   "execution_count": 3,
   "metadata": {},
   "outputs": [],
   "source": [
    "from plotting import plot, matplotlib"
   ]
  },
  {
   "cell_type": "code",
   "execution_count": 4,
   "metadata": {},
   "outputs": [],
   "source": [
    "%matplotlib inline\n",
    "matplotlib.rcParams['figure.figsize'] = (6,6)"
   ]
  },
  {
   "cell_type": "code",
   "execution_count": 5,
   "metadata": {},
   "outputs": [],
   "source": [
    "S = {2+2j, 3+2j, 1.75+1j, 2+1j, 2.25+1j, 2.5+1j, 2.75+1j, 3+1j, 3.25+1j}"
   ]
  },
  {
   "cell_type": "code",
   "execution_count": 6,
   "metadata": {},
   "outputs": [
    {
     "data": {
      "image/png": "[encoded data removed]",
      "text/plain": [
       "<matplotlib.figure.Figure at 0x10b989d30>"
      ]
     },
     "metadata": {},
     "output_type": "display_data"
    }
   ],
   "source": [
    "plot(S, 4)"
   ]
  },
  {
   "cell_type": "markdown",
   "metadata": {},
   "source": [
    "The absolute value of a complex number z, written |z| (and, in Python, abs(z)) is the distance from the origin to the corresponding point in the complex plane."
   ]
  },
  {
   "cell_type": "code",
   "execution_count": 7,
   "metadata": {},
   "outputs": [
    {
     "data": {
      "text/plain": [
       "5.0"
      ]
     },
     "execution_count": 7,
     "metadata": {},
     "output_type": "execute_result"
    }
   ],
   "source": [
    "abs(3+4j)"
   ]
  },
  {
   "cell_type": "markdown",
   "metadata": {},
   "source": [
    "The conjugate of a complex number z, written z ̄, is defined as z.real−z.imag"
   ]
  },
  {
   "cell_type": "code",
   "execution_count": 8,
   "metadata": {},
   "outputs": [
    {
     "data": {
      "text/plain": [
       "(3-4j)"
      ]
     },
     "execution_count": 8,
     "metadata": {},
     "output_type": "execute_result"
    }
   ],
   "source": [
    "(3+4j).conjugate()"
   ]
  },
  {
   "cell_type": "markdown",
   "metadata": {},
   "source": [
    "**Task 1.4.3**: Create a new plot using a comprehension to provide a set of points derived from S by adding 1 + 2i to each:"
   ]
  },
  {
   "cell_type": "code",
   "execution_count": 9,
   "metadata": {},
   "outputs": [
    {
     "data": {
      "image/png": "[encoded data removed]",
      "text/plain": [
       "<matplotlib.figure.Figure at 0x10c9be208>"
      ]
     },
     "metadata": {},
     "output_type": "display_data"
    }
   ],
   "source": [
    "plot({1+2j+z for z in S}, 4)"
   ]
  },
  {
   "cell_type": "markdown",
   "metadata": {},
   "source": [
    "**Quiz 1.4.4**: The “left eye” of the set S of complex numbers is located at 2 + 2i. For what value of z0 does the translation f(z) = z0 + z move the left eye to the origin?\n",
    "\n",
    "$z_0 = -2 - 2i$"
   ]
  },
  {
   "cell_type": "markdown",
   "metadata": {},
   "source": [
    "**Problem 1.4.5**: Show that, for any two distinct points z1 and z2,\n",
    "\n",
    "- there is a translation that maps z1 to z2,\n",
    "- there is a translation that maps z2 to z1, and\n",
    "- there is no translation that both maps z1 to z2 and z2 to z1.\n",
    "\n",
    "Answer:\n",
    "\n",
    "Given two points $z_1$ and $z_2$ we can find a translation that takes $z_1$ to $z_2$ by $t(z) = z_1 + (z_2 - z1)$,\n",
    "similarly for $z_2$, $t(z) = z_2 + (z_1 - z_2)$. There is no translation that maps both $z_1$ to $z_2$ and $z_2$ to $z_1$ as that would necessitate that $z_1 - z_2 = z_2 - z_1$, which only occurs when $z_1 = z_2 = 0$ and this defeats the distinct points restriction."
   ]
  },
  {
   "cell_type": "markdown",
   "metadata": {},
   "source": [
    "**Task 1.4.7**: Create a new plot titled “My scaled points” using a comprehension as in Task 1.4.3. The points in the new plot should be halves of the points in S."
   ]
  },
  {
   "cell_type": "code",
   "execution_count": 10,
   "metadata": {},
   "outputs": [
    {
     "data": {
      "image/png": "[encoded data removed]",
      "text/plain": [
       "<matplotlib.figure.Figure at 0x10cb5fd68>"
      ]
     },
     "metadata": {},
     "output_type": "display_data"
    }
   ],
   "source": [
    "plot({.5*s for s in S}, 4)"
   ]
  },
  {
   "cell_type": "markdown",
   "metadata": {},
   "source": [
    "**Task 1.4.8**: Create a new plot in which the points of S are rotated by 90 degrees and scaled by 1/2. Use a comprehension in which the points of S are multiplied by a single complex number."
   ]
  },
  {
   "cell_type": "code",
   "execution_count": 11,
   "metadata": {},
   "outputs": [
    {
     "data": {
      "image/png": "[encoded data removed]",
      "text/plain": [
       "<matplotlib.figure.Figure at 0x10cc54c50>"
      ]
     },
     "metadata": {},
     "output_type": "display_data"
    }
   ],
   "source": [
    "plot({0.5*1j*s for s in S}, 4)"
   ]
  },
  {
   "cell_type": "markdown",
   "metadata": {},
   "source": [
    "In the complex plane, multiplying a vector by $i$ results in the vector being rotated 90 degrees."
   ]
  },
  {
   "cell_type": "markdown",
   "metadata": {},
   "source": [
    "**Task 1.4.9**: Using a comprehension, create a new plot in which the points of S are rotated by 90 degrees, scaled by 1/2, and then shifted down by one unit and to the right two units. Use a comprehension in which the points of S are multiplied by one complex number and added to another."
   ]
  },
  {
   "cell_type": "code",
   "execution_count": 12,
   "metadata": {},
   "outputs": [
    {
     "data": {
      "image/png": "[encoded data removed]",
      "text/plain": [
       "<matplotlib.figure.Figure at 0x10cc8b2b0>"
      ]
     },
     "metadata": {},
     "output_type": "display_data"
    }
   ],
   "source": [
    "plot({0.5*1j*s + (2-1j) for s in S}, 4)"
   ]
  },
  {
   "cell_type": "markdown",
   "metadata": {},
   "source": [
    "**Task 1.4.10**: We have provided a module image with a procedure file2image(filename) that reads in an image stored in a file in the .png format. Import this procedure and invoke it, providing as argument the name of a file containing an image in this format, assigning the returned value to variable data. An example grayscale image, img01.png, is available for download.\n",
    "The value of data is a list of lists, and data[y][x] is the intensity of pixel (x,y). Pixel (0,0) is at the bottom-left of the image, and pixel (width-1, height-1) is at the top-right. The intensity of a pixel is a number between 0 (black) and 255 (white).\n",
    "Use a comprehension to assign to a list pts the set of complex numbers x + yi such that the image intensity of pixel (x, y) is less than 120, and plot the list pts."
   ]
  },
  {
   "cell_type": "code",
   "execution_count": 13,
   "metadata": {},
   "outputs": [],
   "source": [
    "from image import file2image"
   ]
  },
  {
   "cell_type": "code",
   "execution_count": 14,
   "metadata": {},
   "outputs": [],
   "source": [
    "data = file2image('assets/img01.png')"
   ]
  },
  {
   "cell_type": "code",
   "execution_count": 15,
   "metadata": {},
   "outputs": [
    {
     "data": {
      "text/plain": [
       "[[(183, 183, 183),\n",
       "  (183, 183, 183),\n",
       "  (184, 184, 184),\n",
       "  (185, 185, 185),\n",
       "  (185, 185, 185),\n",
       "  (184, 184, 184),\n",
       "  (183, 183, 183),\n",
       "  (183, 183, 183),\n",
       "  (186, 186, 186),\n",
       "  (187, 187, 187),\n",
       "  (190, 190, 190),\n",
       "  (192, 192, 192),\n",
       "  (195, 195, 195),\n",
       "  (196, 196, 196),\n",
       "  (197, 197, 197),\n",
       "  (197, 197, 197),\n",
       "  (193, 193, 193),\n",
       "  (192, 192, 192),\n",
       "  (191, 191, 191),\n",
       "  (190, 190, 190),\n",
       "  (188, 188, 188),\n",
       "  (188, 188, 188),\n",
       "  (188, 188, 188),\n",
       "  (189, 189, 189),\n",
       "  (186, 186, 186),\n",
       "  (191, 191, 191),\n",
       "  (191, 191, 191),\n",
       "  (185, 185, 185),\n",
       "  (183, 183, 183),\n",
       "  (186, 186, 186),\n",
       "  (188, 188, 188),\n",
       "  (186, 186, 186),\n",
       "  (189, 189, 189),\n",
       "  (189, 189, 189),\n",
       "  (188, 188, 188),\n",
       "  (190, 190, 190),\n",
       "  (194, 194, 194),\n",
       "  (198, 198, 198),\n",
       "  (201, 201, 201),\n",
       "  (203, 203, 203),\n",
       "  (207, 207, 207),\n",
       "  (204, 204, 204),\n",
       "  (198, 198, 198),\n",
       "  (195, 195, 195),\n",
       "  (197, 197, 197),\n",
       "  (201, 201, 201),\n",
       "  (199, 199, 199),\n",
       "  (194, 194, 194),\n",
       "  (199, 199, 199),\n",
       "  (170, 170, 170),\n",
       "  (151, 151, 151),\n",
       "  (144, 144, 144),\n",
       "  (126, 126, 126),\n",
       "  (107, 107, 107),\n",
       "  (105, 105, 105),\n",
       "  (111, 111, 111),\n",
       "  (119, 119, 119),\n",
       "  (119, 119, 119),\n",
       "  (123, 123, 123),\n",
       "  (123, 123, 123),\n",
       "  (111, 111, 111),\n",
       "  (101, 101, 101),\n",
       "  (111, 111, 111),\n",
       "  (129, 129, 129),\n",
       "  (135, 135, 135),\n",
       "  (128, 128, 128),\n",
       "  (143, 143, 143),\n",
       "  (130, 130, 130),\n",
       "  (111, 111, 111),\n",
       "  (139, 139, 139),\n",
       "  (134, 134, 134),\n",
       "  (160, 160, 160),\n",
       "  (139, 139, 139),\n",
       "  (133, 133, 133),\n",
       "  (127, 127, 127),\n",
       "  (128, 128, 128),\n",
       "  (141, 141, 141),\n",
       "  (155, 155, 155),\n",
       "  (155, 155, 155),\n",
       "  (148, 148, 148),\n",
       "  (142, 142, 142),\n",
       "  (143, 143, 143),\n",
       "  (155, 155, 155),\n",
       "  (164, 164, 164),\n",
       "  (151, 151, 151),\n",
       "  (131, 131, 131),\n",
       "  (134, 134, 134),\n",
       "  (151, 151, 151),\n",
       "  (156, 156, 156),\n",
       "  (165, 165, 165),\n",
       "  (156, 156, 156),\n",
       "  (145, 145, 145),\n",
       "  (166, 166, 166),\n",
       "  (174, 174, 174),\n",
       "  (157, 157, 157),\n",
       "  (163, 163, 163),\n",
       "  (163, 163, 163),\n",
       "  (168, 168, 168),\n",
       "  (168, 168, 168),\n",
       "  (165, 165, 165),\n",
       "  (169, 169, 169),\n",
       "  (179, 179, 179),\n",
       "  (183, 183, 183),\n",
       "  (181, 181, 181),\n",
       "  (184, 184, 184),\n",
       "  (159, 159, 159),\n",
       "  (148, 148, 148),\n",
       "  (163, 163, 163),\n",
       "  (185, 185, 185),\n",
       "  (196, 196, 196),\n",
       "  (206, 206, 206),\n",
       "  (217, 217, 217),\n",
       "  (214, 214, 214),\n",
       "  (205, 205, 205),\n",
       "  (193, 193, 193),\n",
       "  (185, 185, 185),\n",
       "  (179, 179, 179),\n",
       "  (178, 178, 178),\n",
       "  (187, 187, 187),\n",
       "  (198, 198, 198),\n",
       "  (203, 203, 203),\n",
       "  (208, 208, 208),\n",
       "  (206, 206, 206),\n",
       "  (206, 206, 206),\n",
       "  (215, 215, 215),\n",
       "  (219, 219, 219),\n",
       "  (212, 212, 212),\n",
       "  (207, 207, 207),\n",
       "  (199, 199, 199),\n",
       "  (197, 197, 197),\n",
       "  (198, 198, 198),\n",
       "  (197, 197, 197),\n",
       "  (202, 202, 202),\n",
       "  (196, 196, 196),\n",
       "  (186, 186, 186),\n",
       "  (202, 202, 202),\n",
       "  (193, 193, 193),\n",
       "  (192, 192, 192),\n",
       "  (191, 191, 191),\n",
       "  (189, 189, 189),\n",
       "  (188, 188, 188),\n",
       "  (186, 186, 186),\n",
       "  (182, 182, 182),\n",
       "  (178, 178, 178),\n",
       "  (181, 181, 181),\n",
       "  (184, 184, 184),\n",
       "  (186, 186, 186),\n",
       "  (187, 187, 187),\n",
       "  (187, 187, 187),\n",
       "  (189, 189, 189),\n",
       "  (190, 190, 190),\n",
       "  (190, 190, 190),\n",
       "  (182, 182, 182),\n",
       "  (180, 180, 180),\n",
       "  (177, 177, 177),\n",
       "  (177, 177, 177),\n",
       "  (179, 179, 179),\n",
       "  (180, 180, 180),\n",
       "  (180, 180, 180),\n",
       "  (179, 179, 179),\n",
       "  (177, 177, 177),\n",
       "  (178, 178, 178),\n",
       "  (178, 178, 178),\n",
       "  (178, 178, 178),\n",
       "  (178, 178, 178),\n",
       "  (177, 177, 177)],\n",
       " [(180, 180, 180),\n",
       "  (182, 182, 182),\n",
       "  (184, 184, 184),\n",
       "  (186, 186, 186),\n",
       "  (186, 186, 186),\n",
       "  (186, 186, 186),\n",
       "  (184, 184, 184),\n",
       "  (183, 183, 183),\n",
       "  (184, 184, 184),\n",
       "  (185, 185, 185),\n",
       "  (187, 187, 187),\n",
       "  (188, 188, 188),\n",
       "  (190, 190, 190),\n",
       "  (191, 191, 191),\n",
       "  (192, 192, 192),\n",
       "  (193, 193, 193),\n",
       "  (194, 194, 194),\n",
       "  (194, 194, 194),\n",
       "  (193, 193, 193),\n",
       "  (192, 192, 192),\n",
       "  (190, 190, 190),\n",
       "  (189, 189, 189),\n",
       "  (188, 188, 188),\n",
       "  (188, 188, 188),\n",
       "  (189, 189, 189),\n",
       "  (190, 190, 190),\n",
       "  (189, 189, 189),\n",
       "  (186, 186, 186),\n",
       "  (185, 185, 185),\n",
       "  (187, 187, 187),\n",
       "  (189, 189, 189),\n",
       "  (189, 189, 189),\n",
       "  (187, 187, 187),\n",
       "  (187, 187, 187),\n",
       "  (188, 188, 188),\n",
       "  (189, 189, 189),\n",
       "  (192, 192, 192),\n",
       "  (196, 196, 196),\n",
       "  (200, 200, 200),\n",
       "  (202, 202, 202),\n",
       "  (211, 211, 211),\n",
       "  (211, 211, 211),\n",
       "  (209, 209, 209),\n",
       "  (206, 206, 206),\n",
       "  (205, 205, 205),\n",
       "  (204, 204, 204),\n",
       "  (198, 198, 198),\n",
       "  (189, 189, 189),\n",
       "  (186, 186, 186),\n",
       "  (155, 155, 155),\n",
       "  (132, 132, 132),\n",
       "  (124, 124, 124),\n",
       "  (111, 111, 111),\n",
       "  (101, 101, 101),\n",
       "  (106, 106, 106),\n",
       "  (116, 116, 116),\n",
       "  (115, 115, 115),\n",
       "  (128, 128, 128),\n",
       "  (142, 142, 142),\n",
       "  (142, 142, 142),\n",
       "  (128, 128, 128),\n",
       "  (113, 113, 113),\n",
       "  (110, 110, 110),\n",
       "  (114, 114, 114),\n",
       "  (120, 120, 120),\n",
       "  (121, 121, 121),\n",
       "  (128, 128, 128),\n",
       "  (130, 130, 130),\n",
       "  (117, 117, 117),\n",
       "  (126, 126, 126),\n",
       "  (144, 144, 144),\n",
       "  (165, 165, 165),\n",
       "  (131, 131, 131),\n",
       "  (128, 128, 128),\n",
       "  (128, 128, 128),\n",
       "  (133, 133, 133),\n",
       "  (139, 139, 139),\n",
       "  (142, 142, 142),\n",
       "  (145, 145, 145),\n",
       "  (147, 147, 147),\n",
       "  (143, 143, 143),\n",
       "  (123, 123, 123),\n",
       "  (128, 128, 128),\n",
       "  (157, 157, 157),\n",
       "  (164, 164, 164),\n",
       "  (141, 141, 141),\n",
       "  (131, 131, 131),\n",
       "  (142, 142, 142),\n",
       "  (157, 157, 157),\n",
       "  (166, 166, 166),\n",
       "  (164, 164, 164),\n",
       "  (149, 149, 149),\n",
       "  (155, 155, 155),\n",
       "  (160, 160, 160),\n",
       "  (153, 153, 153),\n",
       "  (163, 163, 163),\n",
       "  (167, 167, 167),\n",
       "  (166, 166, 166),\n",
       "  (163, 163, 163),\n",
       "  (164, 164, 164),\n",
       "  (171, 171, 171),\n",
       "  (174, 174, 174),\n",
       "  (168, 168, 168),\n",
       "  (157, 157, 157),\n",
       "  (146, 146, 146),\n",
       "  (146, 146, 146),\n",
       "  (153, 153, 153),\n",
       "  (169, 169, 169),\n",
       "  (183, 183, 183),\n",
       "  (190, 190, 190),\n",
       "  (192, 192, 192),\n",
       "  (193, 193, 193),\n",
       "  (180, 180, 180),\n",
       "  (178, 178, 178),\n",
       "  (176, 176, 176),\n",
       "  (174, 174, 174),\n",
       "  (171, 171, 171),\n",
       "  (167, 167, 167),\n",
       "  (166, 166, 166),\n",
       "  (167, 167, 167),\n",
       "  (186, 186, 186),\n",
       "  (196, 196, 196),\n",
       "  (195, 195, 195),\n",
       "  (188, 188, 188),\n",
       "  (186, 186, 186),\n",
       "  (184, 184, 184),\n",
       "  (181, 181, 181),\n",
       "  (182, 182, 182),\n",
       "  (185, 185, 185),\n",
       "  (196, 196, 196),\n",
       "  (200, 200, 200),\n",
       "  (189, 189, 189),\n",
       "  (191, 191, 191),\n",
       "  (196, 196, 196),\n",
       "  (192, 192, 192),\n",
       "  (202, 202, 202),\n",
       "  (196, 196, 196),\n",
       "  (192, 192, 192),\n",
       "  (189, 189, 189),\n",
       "  (189, 189, 189),\n",
       "  (189, 189, 189),\n",
       "  (188, 188, 188),\n",
       "  (187, 187, 187),\n",
       "  (186, 186, 186),\n",
       "  (191, 191, 191),\n",
       "  (191, 191, 191),\n",
       "  (189, 189, 189),\n",
       "  (187, 187, 187),\n",
       "  (186, 186, 186),\n",
       "  (185, 185, 185),\n",
       "  (184, 184, 184),\n",
       "  (183, 183, 183),\n",
       "  (183, 183, 183),\n",
       "  (183, 183, 183),\n",
       "  (182, 182, 182),\n",
       "  (181, 181, 181),\n",
       "  (181, 181, 181),\n",
       "  (179, 179, 179),\n",
       "  (177, 177, 177),\n",
       "  (176, 176, 176),\n",
       "  (179, 179, 179),\n",
       "  (178, 178, 178),\n",
       "  (178, 178, 178),\n",
       "  (178, 178, 178),\n",
       "  (177, 177, 177),\n",
       "  (176, 176, 176)],\n",
       " [(178, 178, 178),\n",
       "  (180, 180, 180),\n",
       "  (183, 183, 183),\n",
       "  (187, 187, 187),\n",
       "  (188, 188, 188),\n",
       "  (187, 187, 187),\n",
       "  (186, 186, 186),\n",
       "  (184, 184, 184),\n",
       "  (185, 185, 185),\n",
       "  (185, 185, 185),\n",
       "  (185, 185, 185),\n",
       "  (185, 185, 185),\n",
       "  (186, 186, 186),\n",
       "  (187, 187, 187),\n",
       "  (188, 188, 188),\n",
       "  (189, 189, 189),\n",
       "  (193, 193, 193),\n",
       "  (193, 193, 193),\n",
       "  (193, 193, 193),\n",
       "  (193, 193, 193),\n",
       "  (191, 191, 191),\n",
       "  (190, 190, 190),\n",
       "  (188, 188, 188),\n",
       "  (187, 187, 187),\n",
       "  (192, 192, 192),\n",
       "  (188, 188, 188),\n",
       "  (185, 185, 185),\n",
       "  (186, 186, 186),\n",
       "  (187, 187, 187),\n",
       "  (188, 188, 188),\n",
       "  (190, 190, 190),\n",
       "  (192, 192, 192),\n",
       "  (186, 186, 186),\n",
       "  (188, 188, 188),\n",
       "  (189, 189, 189),\n",
       "  (190, 190, 190),\n",
       "  (192, 192, 192),\n",
       "  (195, 195, 195),\n",
       "  (200, 200, 200),\n",
       "  (204, 204, 204),\n",
       "  (214, 214, 214),\n",
       "  (217, 217, 217),\n",
       "  (216, 216, 216),\n",
       "  (210, 210, 210),\n",
       "  (206, 206, 206),\n",
       "  (201, 201, 201),\n",
       "  (191, 191, 191),\n",
       "  (181, 181, 181),\n",
       "  (179, 179, 179),\n",
       "  (148, 148, 148),\n",
       "  (124, 124, 124),\n",
       "  (114, 114, 114),\n",
       "  (104, 104, 104),\n",
       "  (99, 99, 99),\n",
       "  (106, 106, 106),\n",
       "  (113, 113, 113),\n",
       "  (118, 118, 118),\n",
       "  (118, 118, 118),\n",
       "  (115, 115, 115),\n",
       "  (114, 114, 114),\n",
       "  (117, 117, 117),\n",
       "  (119, 119, 119),\n",
       "  (111, 111, 111),\n",
       "  (99, 99, 99),\n",
       "  (105, 105, 105),\n",
       "  (114, 114, 114),\n",
       "  (112, 112, 112),\n",
       "  (125, 125, 125),\n",
       "  (119, 119, 119),\n",
       "  (107, 107, 107),\n",
       "  (148, 148, 148),\n",
       "  (160, 160, 160),\n",
       "  (135, 135, 135),\n",
       "  (129, 129, 129),\n",
       "  (126, 126, 126),\n",
       "  (128, 128, 128),\n",
       "  (128, 128, 128),\n",
       "  (130, 130, 130),\n",
       "  (141, 141, 141),\n",
       "  (155, 155, 155),\n",
       "  (153, 153, 153),\n",
       "  (136, 136, 136),\n",
       "  (125, 125, 125),\n",
       "  (129, 129, 129),\n",
       "  (139, 139, 139),\n",
       "  (145, 145, 145),\n",
       "  (150, 150, 150),\n",
       "  (156, 156, 156),\n",
       "  (146, 146, 146),\n",
       "  (155, 155, 155),\n",
       "  (165, 165, 165),\n",
       "  (153, 153, 153),\n",
       "  (143, 143, 143),\n",
       "  (144, 144, 144),\n",
       "  (145, 145, 145),\n",
       "  (155, 155, 155),\n",
       "  (152, 152, 152),\n",
       "  (153, 153, 153),\n",
       "  (156, 156, 156),\n",
       "  (161, 161, 161),\n",
       "  (164, 164, 164),\n",
       "  (162, 162, 162),\n",
       "  (152, 152, 152),\n",
       "  (144, 144, 144),\n",
       "  (144, 144, 144),\n",
       "  (160, 160, 160),\n",
       "  (173, 173, 173),\n",
       "  (176, 176, 176),\n",
       "  (176, 176, 176),\n",
       "  (179, 179, 179),\n",
       "  (176, 176, 176),\n",
       "  (171, 171, 171),\n",
       "  (164, 164, 164),\n",
       "  (173, 173, 173),\n",
       "  (183, 183, 183),\n",
       "  (188, 188, 188),\n",
       "  (187, 187, 187),\n",
       "  (181, 181, 181),\n",
       "  (170, 170, 170),\n",
       "  (162, 162, 162),\n",
       "  (176, 176, 176),\n",
       "  (184, 184, 184),\n",
       "  (182, 182, 182),\n",
       "  (173, 173, 173),\n",
       "  (171, 171, 171),\n",
       "  (167, 167, 167),\n",
       "  (163, 163, 163),\n",
       "  (162, 162, 162),\n",
       "  (155, 155, 155),\n",
       "  (169, 169, 169),\n",
       "  (182, 182, 182),\n",
       "  (176, 176, 176),\n",
       "  (180, 180, 180),\n",
       "  (192, 192, 192),\n",
       "  (195, 195, 195),\n",
       "  (207, 207, 207),\n",
       "  (199, 199, 199),\n",
       "  (192, 192, 192),\n",
       "  (186, 186, 186),\n",
       "  (188, 188, 188),\n",
       "  (191, 191, 191),\n",
       "  (191, 191, 191),\n",
       "  (192, 192, 192),\n",
       "  (195, 195, 195),\n",
       "  (191, 191, 191),\n",
       "  (187, 187, 187),\n",
       "  (183, 183, 183),\n",
       "  (181, 181, 181),\n",
       "  (181, 181, 181),\n",
       "  (181, 181, 181),\n",
       "  (180, 180, 180),\n",
       "  (180, 180, 180),\n",
       "  (181, 181, 181),\n",
       "  (183, 183, 183),\n",
       "  (186, 186, 186),\n",
       "  (187, 187, 187),\n",
       "  (187, 187, 187),\n",
       "  (185, 185, 185),\n",
       "  (184, 184, 184),\n",
       "  (183, 183, 183),\n",
       "  (181, 181, 181),\n",
       "  (181, 181, 181),\n",
       "  (180, 180, 180),\n",
       "  (179, 179, 179),\n",
       "  (177, 177, 177),\n",
       "  (176, 176, 176)],\n",
       " [(177, 177, 177),\n",
       "  (179, 179, 179),\n",
       "  (182, 182, 182),\n",
       "  (185, 185, 185),\n",
       "  (187, 187, 187),\n",
       "  (188, 188, 188),\n",
       "  (188, 188, 188),\n",
       "  (187, 187, 187),\n",
       "  (188, 188, 188),\n",
       "  (187, 187, 187),\n",
       "  (186, 186, 186),\n",
       "  (186, 186, 186),\n",
       "  (186, 186, 186),\n",
       "  (186, 186, 186),\n",
       "  (187, 187, 187),\n",
       "  (188, 188, 188),\n",
       "  (189, 189, 189),\n",
       "  (189, 189, 189),\n",
       "  (190, 190, 190),\n",
       "  (192, 192, 192),\n",
       "  (193, 193, 193),\n",
       "  (192, 192, 192),\n",
       "  (190, 190, 190),\n",
       "  (188, 188, 188),\n",
       "  (190, 190, 190),\n",
       "  (184, 184, 184),\n",
       "  (183, 183, 183),\n",
       "  (188, 188, 188),\n",
       "  (190, 190, 190),\n",
       "  (188, 188, 188),\n",
       "  (189, 189, 189),\n",
       "  (192, 192, 192),\n",
       "  (188, 188, 188),\n",
       "  (190, 190, 190),\n",
       "  (193, 193, 193),\n",
       "  (193, 193, 193),\n",
       "  (194, 194, 194),\n",
       "  (196, 196, 196),\n",
       "  (202, 202, 202),\n",
       "  (207, 207, 207),\n",
       "  (217, 217, 217),\n",
       "  (219, 219, 219),\n",
       "  (216, 216, 216),\n",
       "  (207, 207, 207),\n",
       "  (202, 202, 202),\n",
       "  (197, 197, 197),\n",
       "  (185, 185, 185),\n",
       "  (172, 172, 172),\n",
       "  (158, 158, 158),\n",
       "  (132, 132, 132),\n",
       "  (111, 111, 111),\n",
       "  (99, 99, 99),\n",
       "  (85, 85, 85),\n",
       "  (76, 76, 76),\n",
       "  (73, 73, 73),\n",
       "  (70, 70, 70),\n",
       "  (94, 94, 94),\n",
       "  (110, 110, 110),\n",
       "  (123, 123, 123),\n",
       "  (121, 121, 121),\n",
       "  (112, 112, 112),\n",
       "  (108, 108, 108),\n",
       "  (111, 111, 111),\n",
       "  (115, 115, 115),\n",
       "  (104, 104, 104),\n",
       "  (113, 113, 113),\n",
       "  (112, 112, 112),\n",
       "  (117, 117, 117),\n",
       "  (115, 115, 115),\n",
       "  (101, 101, 101),\n",
       "  (143, 143, 143),\n",
       "  (147, 147, 147),\n",
       "  (137, 137, 137),\n",
       "  (130, 130, 130),\n",
       "  (123, 123, 123),\n",
       "  (119, 119, 119),\n",
       "  (121, 121, 121),\n",
       "  (128, 128, 128),\n",
       "  (141, 141, 141),\n",
       "  (152, 152, 152),\n",
       "  (144, 144, 144),\n",
       "  (146, 146, 146),\n",
       "  (143, 143, 143),\n",
       "  (139, 139, 139),\n",
       "  (144, 144, 144),\n",
       "  (154, 154, 154),\n",
       "  (153, 153, 153),\n",
       "  (144, 144, 144),\n",
       "  (129, 129, 129),\n",
       "  (135, 135, 135),\n",
       "  (156, 156, 156),\n",
       "  (152, 152, 152),\n",
       "  (137, 137, 137),\n",
       "  (137, 137, 137),\n",
       "  (139, 139, 139),\n",
       "  (143, 143, 143),\n",
       "  (137, 137, 137),\n",
       "  (147, 147, 147),\n",
       "  (159, 159, 159),\n",
       "  (161, 161, 161),\n",
       "  (154, 154, 154),\n",
       "  (145, 145, 145),\n",
       "  (144, 144, 144),\n",
       "  (147, 147, 147),\n",
       "  (156, 156, 156),\n",
       "  (162, 162, 162),\n",
       "  (160, 160, 160),\n",
       "  (150, 150, 150),\n",
       "  (143, 143, 143),\n",
       "  (147, 147, 147),\n",
       "  (151, 151, 151),\n",
       "  (151, 151, 151),\n",
       "  (173, 173, 173),\n",
       "  (177, 177, 177),\n",
       "  (179, 179, 179),\n",
       "  (178, 178, 178),\n",
       "  (179, 179, 179),\n",
       "  (187, 187, 187),\n",
       "  (194, 194, 194),\n",
       "  (197, 197, 197),\n",
       "  (190, 190, 190),\n",
       "  (190, 190, 190),\n",
       "  (180, 180, 180),\n",
       "  (172, 172, 172),\n",
       "  (173, 173, 173),\n",
       "  (167, 167, 167),\n",
       "  (150, 150, 150),\n",
       "  (137, 137, 137),\n",
       "  (142, 142, 142),\n",
       "  (144, 144, 144),\n",
       "  (159, 159, 159),\n",
       "  (169, 169, 169),\n",
       "  (179, 179, 179),\n",
       "  (189, 189, 189),\n",
       "  (195, 195, 195),\n",
       "  (212, 212, 212),\n",
       "  (198, 198, 198),\n",
       "  (189, 189, 189),\n",
       "  (185, 185, 185),\n",
       "  (188, 188, 188),\n",
       "  (192, 192, 192),\n",
       "  (191, 191, 191),\n",
       "  (194, 194, 194),\n",
       "  (199, 199, 199),\n",
       "  (189, 189, 189),\n",
       "  (183, 183, 183),\n",
       "  (177, 177, 177),\n",
       "  (177, 177, 177),\n",
       "  (178, 178, 178),\n",
       "  (180, 180, 180),\n",
       "  (180, 180, 180),\n",
       "  (180, 180, 180),\n",
       "  (180, 180, 180),\n",
       "  (183, 183, 183),\n",
       "  (187, 187, 187),\n",
       "  (188, 188, 188),\n",
       "  (187, 187, 187),\n",
       "  (186, 186, 186),\n",
       "  (185, 185, 185),\n",
       "  (186, 186, 186),\n",
       "  (182, 182, 182),\n",
       "  (182, 182, 182),\n",
       "  (182, 182, 182),\n",
       "  (181, 181, 181),\n",
       "  (179, 179, 179),\n",
       "  (178, 178, 178)],\n",
       " [(178, 178, 178),\n",
       "  (179, 179, 179),\n",
       "  (180, 180, 180),\n",
       "  (181, 181, 181),\n",
       "  (184, 184, 184),\n",
       "  (186, 186, 186),\n",
       "  (189, 189, 189),\n",
       "  (190, 190, 190),\n",
       "  (190, 190, 190),\n",
       "  (189, 189, 189),\n",
       "  (188, 188, 188),\n",
       "  (187, 187, 187),\n",
       "  (187, 187, 187),\n",
       "  (187, 187, 187),\n",
       "  (187, 187, 187),\n",
       "  (188, 188, 188),\n",
       "  (185, 185, 185),\n",
       "  (186, 186, 186),\n",
       "  (188, 188, 188),\n",
       "  (191, 191, 191),\n",
       "  (194, 194, 194),\n",
       "  (195, 195, 195),\n",
       "  (194, 194, 194),\n",
       "  (192, 192, 192),\n",
       "  (186, 186, 186),\n",
       "  (182, 182, 182),\n",
       "  (183, 183, 183),\n",
       "  (190, 190, 190),\n",
       "  (193, 193, 193),\n",
       "  (190, 190, 190),\n",
       "  (188, 188, 188),\n",
       "  (189, 189, 189),\n",
       "  (190, 190, 190),\n",
       "  (192, 192, 192),\n",
       "  (195, 195, 195),\n",
       "  (195, 195, 195),\n",
       "  (195, 195, 195),\n",
       "  (197, 197, 197),\n",
       "  (203, 203, 203),\n",
       "  (208, 208, 208),\n",
       "  (216, 216, 216),\n",
       "  (219, 219, 219),\n",
       "  (215, 215, 215),\n",
       "  (204, 204, 204),\n",
       "  (197, 197, 197),\n",
       "  (191, 191, 191),\n",
       "  (177, 177, 177),\n",
       "  (162, 162, 162),\n",
       "  (143, 143, 143),\n",
       "  (129, 129, 129),\n",
       "  (120, 120, 120),\n",
       "  (117, 117, 117),\n",
       "  (113, 113, 113),\n",
       "  (111, 111, 111),\n",
       "  (107, 107, 107),\n",
       "  (100, 100, 100),\n",
       "  (93, 93, 93),\n",
       "  (102, 102, 102),\n",
       "  (112, 112, 112),\n",
       "  (111, 111, 111),\n",
       "  (99, 99, 99),\n",
       "  (90, 90, 90),\n",
       "  (97, 97, 97),\n",
       "  (109, 109, 109),\n",
       "  (109, 109, 109),\n",
       "  (113, 113, 113),\n",
       "  (120, 120, 120),\n",
       "  (109, 109, 109),\n",
       "  (110, 110, 110),\n",
       "  (111, 111, 111),\n",
       "  (137, 137, 137),\n",
       "  (139, 139, 139),\n",
       "  (133, 133, 133),\n",
       "  (129, 129, 129),\n",
       "  (120, 120, 120),\n",
       "  (113, 113, 113),\n",
       "  (119, 119, 119),\n",
       "  (134, 134, 134),\n",
       "  (140, 140, 140),\n",
       "  (138, 138, 138),\n",
       "  (144, 144, 144),\n",
       "  (139, 139, 139),\n",
       "  (143, 143, 143),\n",
       "  (157, 157, 157),\n",
       "  (164, 164, 164),\n",
       "  (156, 156, 156),\n",
       "  (142, 142, 142),\n",
       "  (135, 135, 135),\n",
       "  (130, 130, 130),\n",
       "  (127, 127, 127),\n",
       "  (146, 146, 146),\n",
       "  (150, 150, 150),\n",
       "  (139, 139, 139),\n",
       "  (140, 140, 140),\n",
       "  (139, 139, 139),\n",
       "  (137, 137, 137),\n",
       "  (144, 144, 144),\n",
       "  (157, 157, 157),\n",
       "  (167, 167, 167),\n",
       "  (162, 162, 162),\n",
       "  (147, 147, 147),\n",
       "  (138, 138, 138),\n",
       "  (141, 141, 141),\n",
       "  (149, 149, 149),\n",
       "  (152, 152, 152),\n",
       "  (142, 142, 142),\n",
       "  (128, 128, 128),\n",
       "  (120, 120, 120),\n",
       "  (121, 121, 121),\n",
       "  (128, 128, 128),\n",
       "  (140, 140, 140),\n",
       "  (148, 148, 148),\n",
       "  (145, 145, 145),\n",
       "  (161, 161, 161),\n",
       "  (180, 180, 180),\n",
       "  (189, 189, 189),\n",
       "  (189, 189, 189),\n",
       "  (186, 186, 186),\n",
       "  (182, 182, 182),\n",
       "  (179, 179, 179),\n",
       "  (183, 183, 183),\n",
       "  (184, 184, 184),\n",
       "  (176, 176, 176),\n",
       "  (173, 173, 173),\n",
       "  (180, 180, 180),\n",
       "  (176, 176, 176),\n",
       "  (157, 157, 157),\n",
       "  (142, 142, 142),\n",
       "  (156, 156, 156),\n",
       "  (147, 147, 147),\n",
       "  (154, 154, 154),\n",
       "  (162, 162, 162),\n",
       "  (175, 175, 175),\n",
       "  (191, 191, 191),\n",
       "  (198, 198, 198),\n",
       "  (208, 208, 208),\n",
       "  (193, 193, 193),\n",
       "  (188, 188, 188),\n",
       "  (186, 186, 186),\n",
       "  (189, 189, 189),\n",
       "  (191, 191, 191),\n",
       "  (190, 190, 190),\n",
       "  (191, 191, 191),\n",
       "  (195, 195, 195),\n",
       "  (195, 195, 195),\n",
       "  (188, 188, 188),\n",
       "  (181, 181, 181),\n",
       "  (181, 181, 181),\n",
       "  (182, 182, 182),\n",
       "  (182, 182, 182),\n",
       "  (181, 181, 181),\n",
       "  (183, 183, 183),\n",
       "  (184, 184, 184),\n",
       "  (185, 185, 185),\n",
       "  (185, 185, 185),\n",
       "  (183, 183, 183),\n",
       "  (179, 179, 179),\n",
       "  (177, 177, 177),\n",
       "  (177, 177, 177),\n",
       "  (178, 178, 178),\n",
       "  (180, 180, 180),\n",
       "  (180, 180, 180),\n",
       "  (180, 180, 180),\n",
       "  (180, 180, 180),\n",
       "  (179, 179, 179),\n",
       "  (178, 178, 178)]]"
      ]
     },
     "execution_count": 15,
     "metadata": {},
     "output_type": "execute_result"
    }
   ],
   "source": [
    "data[:5]"
   ]
  },
  {
   "cell_type": "code",
   "execution_count": 16,
   "metadata": {},
   "outputs": [],
   "source": [
    "height = len(data)\n",
    "width = len(data[0]) # Assumes each sublist has the same length"
   ]
  },
  {
   "cell_type": "code",
   "execution_count": 17,
   "metadata": {},
   "outputs": [],
   "source": [
    "pts = [(x/width*4)+(((height-y)*1j)/height*4) for y in range(height) for x in range(width) if data[y][x][0] < 120]"
   ]
  },
  {
   "cell_type": "code",
   "execution_count": 18,
   "metadata": {},
   "outputs": [
    {
     "data": {
      "image/png": "[encoded data removed]",
      "text/plain": [
       "<matplotlib.figure.Figure at 0x10cf1e400>"
      ]
     },
     "metadata": {},
     "output_type": "display_data"
    }
   ],
   "source": [
    "plot(pts, 4)"
   ]
  },
  {
   "cell_type": "markdown",
   "metadata": {},
   "source": [
    "**Task 1.4.11**: Write a Python procedure f(z) that takes as argument a complex number z so that when f(z) is applied to each of the complex numbers in S, the set of resulting numbers is centered at the origin. Write a comprehension in terms of S and f whose value is the set of translated points, and plot the value."
   ]
  },
  {
   "cell_type": "code",
   "execution_count": 19,
   "metadata": {},
   "outputs": [],
   "source": [
    "# For this particular case we can center around 0 by translating by -2-2i\n",
    "def f(z):\n",
    "    return z + (-2-2j)"
   ]
  },
  {
   "cell_type": "code",
   "execution_count": 20,
   "metadata": {},
   "outputs": [
    {
     "data": {
      "image/png": "[encoded data removed]",
      "text/plain": [
       "<matplotlib.figure.Figure at 0x10d217cc0>"
      ]
     },
     "metadata": {},
     "output_type": "display_data"
    }
   ],
   "source": [
    "plot({f(s) for s in pts}, 4)"
   ]
  },
  {
   "cell_type": "markdown",
   "metadata": {},
   "source": [
    "**Task 1.4.12**: Repeat Task 1.4.8 with the points in pts instead of the points in S.a"
   ]
  },
  {
   "cell_type": "markdown",
   "metadata": {},
   "source": [
    "Task 1.4.8 was about plotting points scaled by 1/2, rotated 90 degrees and translated two units to the right and one unit down"
   ]
  },
  {
   "cell_type": "code",
   "execution_count": 21,
   "metadata": {},
   "outputs": [
    {
     "data": {
      "image/png": "[encoded data removed]",
      "text/plain": [
       "<matplotlib.figure.Figure at 0x10d22eac8>"
      ]
     },
     "metadata": {},
     "output_type": "display_data"
    }
   ],
   "source": [
    "plot({0.5*1j*pt + (2-1j) for pt in pts}, 4)"
   ]
  },
  {
   "cell_type": "markdown",
   "metadata": {},
   "source": [
    "## Euler's formula\n",
    "\n",
    "Euler’s formula states that, for any real number $\\theta$, $e^{i\\theta}$ is the point $z$ on the unit circle with argument $\\theta$. Here $e$ is the famous transcendental number 2.718281828..."
   ]
  },
  {
   "cell_type": "markdown",
   "metadata": {},
   "source": [
    "**Task 1.4.17**: From the module math, import the definitions e and pi. Let n be the integer 20. Let w be the complex number $e^{2 \\pi i/n}$. Write a comprehension yielding the list consisting of w0, w1, w2, . . . , wn−1. Plot these complex numbers."
   ]
  },
  {
   "cell_type": "code",
   "execution_count": 22,
   "metadata": {},
   "outputs": [],
   "source": [
    "from math import e, pi"
   ]
  },
  {
   "cell_type": "code",
   "execution_count": 23,
   "metadata": {},
   "outputs": [
    {
     "data": {
      "image/png": "[encoded data removed]",
      "text/plain": [
       "<matplotlib.figure.Figure at 0x10d1963c8>"
      ]
     },
     "metadata": {},
     "output_type": "display_data"
    }
   ],
   "source": [
    "w = e**(2*pi*1j/20)\n",
    "plot({ w**n for n in range(0, 20) }, 4)"
   ]
  },
  {
   "cell_type": "markdown",
   "metadata": {},
   "source": [
    "**Task 1.4.18**: Recall from Task 1.4.1 the set S of complex numbers. Write a comprehension whose value is the set consisting of rotations by π/4 of the elements of S. Plot the value of this comprehension."
   ]
  },
  {
   "cell_type": "code",
   "execution_count": 25,
   "metadata": {},
   "outputs": [
    {
     "data": {
      "image/png": "[encoded data removed]",
      "text/plain": [
       "<matplotlib.figure.Figure at 0x10cc74208>"
      ]
     },
     "metadata": {},
     "output_type": "display_data"
    }
   ],
   "source": [
    "plot({ s*e**(pi/4*1j) for s in S }, 4)"
   ]
  },
  {
   "cell_type": "markdown",
   "metadata": {},
   "source": [
    "**Task 1.4.19**: Similarly, recall from Task 1.4.10 the list pts of points derived from an image. Plot the rotation by π/4 of the complex numbers comprising pts."
   ]
  },
  {
   "cell_type": "code",
   "execution_count": 27,
   "metadata": {},
   "outputs": [
    {
     "data": {
      "image/png": "[encoded data removed]",
      "text/plain": [
       "<matplotlib.figure.Figure at 0x10d304048>"
      ]
     },
     "metadata": {},
     "output_type": "display_data"
    }
   ],
   "source": [
    "plot({ pt*e**(pi/4*1j) for pt in pts }, 4)"
   ]
  },
  {
   "cell_type": "markdown",
   "metadata": {},
   "source": [
    "**Task 1.4.20**: Write a comprehension that transforms the set pts by translating it so the image is centered, then rotating it by π/4, then scaling it by half. Plot the result."
   ]
  },
  {
   "cell_type": "code",
   "execution_count": 28,
   "metadata": {},
   "outputs": [
    {
     "data": {
      "image/png": "[encoded data removed]",
      "text/plain": [
       "<matplotlib.figure.Figure at 0x10cb7ea20>"
      ]
     },
     "metadata": {},
     "output_type": "display_data"
    }
   ],
   "source": [
    "plot({ 0.5*e**(pi*1/4*1j)*f(pt) for pt in pts}, 4)"
   ]
  },
  {
   "cell_type": "code",
   "execution_count": null,
   "metadata": {},
   "outputs": [],
   "source": []
  }
 ],
 "metadata": {
  "kernelspec": {
   "display_name": "Python 3",
   "language": "python",
   "name": "python3"
  },
  "language_info": {
   "codemirror_mode": {
    "name": "ipython",
    "version": 3
   },
   "file_extension": ".py",
   "mimetype": "text/x-python",
   "name": "python",
   "nbconvert_exporter": "python",
   "pygments_lexer": "ipython3",
   "version": "3.6.2"
  }
 },
 "nbformat": 4,
 "nbformat_minor": 2
}
