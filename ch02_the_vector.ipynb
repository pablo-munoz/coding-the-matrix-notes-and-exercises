{
 "cells": [
  {
   "cell_type": "markdown",
   "metadata": {},
   "source": [
    "# Chapter 2: The Vector\n",
    "\n",
    "A vector is a function with finite domain, and python's dictionaries are a good way to represent them. Consider $R^{WORDS}$, i.e. the set of all WORDS vectors over $R$. If we were to represent the vector as a python dictionary, we would have a lot of keys, perhaps some that our problem domain doesn't need to use. For this we may adopt a convention called **sparse representation**, where we skip the key-value pairs whose values are 0.\n",
    "\n",
    "A vector most of whose values are zero is called a sparse vector. If no more than k of the entries are nonzero, we say the vector is k-sparse. A k-sparse vector can be represented using space proportional to k."
   ]
  },
  {
   "cell_type": "code",
   "execution_count": 1,
   "metadata": {},
   "outputs": [],
   "source": [
    "import matplotlib\n",
    "import numpy as np\n",
    "import matplotlib.pyplot as plt\n",
    "%matplotlib inline"
   ]
  },
  {
   "cell_type": "code",
   "execution_count": 2,
   "metadata": {},
   "outputs": [],
   "source": [
    "def unzip(LofL):\n",
    "    return [[v[0] for v in LofL], [v[1] for v in LofL]]"
   ]
  },
  {
   "cell_type": "code",
   "execution_count": 3,
   "metadata": {},
   "outputs": [],
   "source": [
    "def plot(L, *args, **kwargs):\n",
    "    plt.ylim(-4, 4)\n",
    "    plt.xlim(-4, 4)\n",
    "    plt.axhline(0, color='gray', linewidth=1)\n",
    "    plt.axvline(0, color='gray', linewidth=1)\n",
    "    plt.plot(*unzip(L), marker='o', color='red', linestyle='None', markersize=2.5)"
   ]
  },
  {
   "cell_type": "markdown",
   "metadata": {},
   "source": [
    "**Task 2.3.2**: In this task, we will represent a vector using a Python list. In Python, assign to the variable L a list of 2-element lists:"
   ]
  },
  {
   "cell_type": "code",
   "execution_count": 4,
   "metadata": {},
   "outputs": [
    {
     "data": {
      "image/png": "[encoded data removed]",
      "text/plain": [
       "<matplotlib.figure.Figure at 0x109550590>"
      ]
     },
     "metadata": {},
     "output_type": "display_data"
    }
   ],
   "source": [
    "L = [[2, 2], [3, 2], [1.75, 1], [2, 1], [2.25, 1], [2.5, 1], [2.75, 1], [3, 1], [3.25, 1]]\n",
    "plot(L, 4)"
   ]
  },
  {
   "cell_type": "code",
   "execution_count": 5,
   "metadata": {},
   "outputs": [],
   "source": [
    "def add2(v,w):\n",
    "    return [v[0]+w[0], v[1]+w[1]]"
   ]
  },
  {
   "cell_type": "code",
   "execution_count": 6,
   "metadata": {},
   "outputs": [
    {
     "data": {
      "image/png": "[encoded data removed]",
      "text/plain": [
       "<matplotlib.figure.Figure at 0x1095ed4d0>"
      ]
     },
     "metadata": {},
     "output_type": "display_data"
    }
   ],
   "source": [
    "plot([add2(v, [1,2]) for v in L], 4)"
   ]
  },
  {
   "cell_type": "code",
   "execution_count": 7,
   "metadata": {},
   "outputs": [],
   "source": [
    "def addn(v, w):\n",
    "    return [sum(x) for x in zip(v,w)]"
   ]
  },
  {
   "cell_type": "code",
   "execution_count": 8,
   "metadata": {},
   "outputs": [
    {
     "data": {
      "text/plain": [
       "[5, 7, 9]"
      ]
     },
     "execution_count": 8,
     "metadata": {},
     "output_type": "execute_result"
    }
   ],
   "source": [
    "addn([1, 2, 3], [4, 5, 6])"
   ]
  },
  {
   "cell_type": "markdown",
   "metadata": {},
   "source": [
    "## Scalar Vector Multiplication\n",
    "Multiplying a vector $v$ by a scalar $\\alpha$ is defined as multiplying each entry of $v$ by $\\alpha$"
   ]
  },
  {
   "cell_type": "markdown",
   "metadata": {},
   "source": [
    "**Quiz 2.5.3**: Suppose we represent n-vectors by n-element lists. Write a procedure scalar_vector_mult(alpha, v) that multiplies the vector v by the scalar alpha."
   ]
  },
  {
   "cell_type": "code",
   "execution_count": 9,
   "metadata": {},
   "outputs": [],
   "source": [
    "def scalar_vector_mult(alpha, v):\n",
    "    return [alpha * n for n in v]"
   ]
  },
  {
   "cell_type": "markdown",
   "metadata": {},
   "source": [
    "**Task 2.5.4**: Plot the result of scaling the vectors in L by 0.5, then plot the result of scaling them by -0.5."
   ]
  },
  {
   "cell_type": "code",
   "execution_count": 10,
   "metadata": {},
   "outputs": [],
   "source": [
    "L_scaled_by_0_5 = [scalar_vector_mult(0.5, v) for v in L]\n",
    "L_scaled_by_minus_0_5 = [scalar_vector_mult(-0.5, v) for v in L]"
   ]
  },
  {
   "cell_type": "code",
   "execution_count": 11,
   "metadata": {},
   "outputs": [
    {
     "data": {
      "image/png": "[encoded data removed]",
      "text/plain": [
       "<matplotlib.figure.Figure at 0x1096f4bd0>"
      ]
     },
     "metadata": {},
     "output_type": "display_data"
    }
   ],
   "source": [
    "plot(L_scaled_by_0_5)"
   ]
  },
  {
   "cell_type": "code",
   "execution_count": 12,
   "metadata": {},
   "outputs": [
    {
     "data": {
      "image/png": "[encoded data removed]",
      "text/plain": [
       "<matplotlib.figure.Figure at 0x1097d8690>"
      ]
     },
     "metadata": {},
     "output_type": "display_data"
    }
   ],
   "source": [
    "plot(L_scaled_by_minus_0_5)"
   ]
  },
  {
   "cell_type": "code",
   "execution_count": 13,
   "metadata": {},
   "outputs": [
    {
     "data": {
      "image/png": "[encoded data removed]",
      "text/plain": [
       "<matplotlib.figure.Figure at 0x1098b9e90>"
      ]
     },
     "metadata": {},
     "output_type": "display_data"
    }
   ],
   "source": [
    "v = [3, 2]\n",
    "plot([scalar_vector_mult(i/10, v) for i in range(11)], 5)"
   ]
  },
  {
   "cell_type": "code",
   "execution_count": 14,
   "metadata": {},
   "outputs": [
    {
     "data": {
      "image/png": "[encoded data removed]",
      "text/plain": [
       "<matplotlib.figure.Figure at 0x1099c0390>"
      ]
     },
     "metadata": {},
     "output_type": "display_data"
    }
   ],
   "source": [
    "plot([scalar_vector_mult(i/100, v) for i in range(101)], 5)"
   ]
  },
  {
   "cell_type": "markdown",
   "metadata": {},
   "source": [
    "## 2.6: Combining vector addition and scalar multiplication"
   ]
  },
  {
   "cell_type": "code",
   "execution_count": 15,
   "metadata": {},
   "outputs": [
    {
     "data": {
      "image/png": "[encoded data removed]",
      "text/plain": [
       "<matplotlib.figure.Figure at 0x1099c0d50>"
      ]
     },
     "metadata": {},
     "output_type": "display_data"
    }
   ],
   "source": [
    "plot([add2(scalar_vector_mult(i/100., [3,2]), [0.5,1]) for i in range(101)], 4)"
   ]
  },
  {
   "cell_type": "markdown",
   "metadata": {},
   "source": [
    "**Exericse 2.6.1** Given points u = [2,3] and v = [5,7] in R2, what is the point w such that the origin-to-w line segment can be translated to yield the u-to-v line segment? And what is the translation vector that is applied to both endpoints?"
   ]
  },
  {
   "cell_type": "code",
   "execution_count": 16,
   "metadata": {},
   "outputs": [
    {
     "data": {
      "image/png": "[encoded data removed]",
      "text/plain": [
       "<matplotlib.figure.Figure at 0x1096fef50>"
      ]
     },
     "metadata": {},
     "output_type": "display_data"
    }
   ],
   "source": [
    "u = [2, 3]\n",
    "v = [5, 7]\n",
    "w = add2(v, scalar_vector_mult(-1, u))\n",
    "transl = u\n",
    "plot([add2(transl, scalar_vector_mult(i/100., w)) for i in range(101)])"
   ]
  },
  {
   "cell_type": "markdown",
   "metadata": {},
   "source": [
    "**Exercise 2.6.2**: Given a pair of points, u = [1,4], v = [6,3] in R2, write a mathematical expressing giving the set of points making up the line segment between the points.\n",
    "\n",
    "Answer:\n",
    "\n",
    "$\\{u + \\alpha(v - u), \\alpha \\in R, 0 \\leq \\alpha \\leq 1\\}$"
   ]
  },
  {
   "cell_type": "markdown",
   "metadata": {},
   "source": [
    "An expression of the form αu+βv where α,β ≥ 0 and α+β = 1 is called a convex combination of u and v. Which leads us to\n",
    "the fact that the u-to-v line segment consists of the set of convex combinations of u and v."
   ]
  },
  {
   "cell_type": "markdown",
   "metadata": {},
   "source": [
    "**Task 2.6.9**: Write a python procedure segment(pt1, pt2) that, given points represented as 2-element lists, returns a list of a hundred points spaced evenly along the line segment whose endpoints are the two points\n",
    "Plot the hundred points resulting when pt1 = [3.5, 3] and pt2 = [0.5, 1]"
   ]
  },
  {
   "cell_type": "code",
   "execution_count": 17,
   "metadata": {},
   "outputs": [],
   "source": [
    "def segment(pt1, pt2):\n",
    "    return [add2(scalar_vector_mult(i/100, pt1), scalar_vector_mult(1-(i/100), pt2)) for i in range(101)]"
   ]
  },
  {
   "cell_type": "code",
   "execution_count": 18,
   "metadata": {},
   "outputs": [
    {
     "data": {
      "image/png": "[encoded data removed]",
      "text/plain": [
       "<matplotlib.figure.Figure at 0x1099724d0>"
      ]
     },
     "metadata": {},
     "output_type": "display_data"
    }
   ],
   "source": [
    "plot(segment([3,2], [0.5, 1]))"
   ]
  },
  {
   "cell_type": "markdown",
   "metadata": {},
   "source": [
    "The difference between convex and affine combinations it that, in a convex combination, the coefficients $\\alpha$, $\\beta$, ... have to be positive. In affine combinations there is no such restrition. In the 2D case, a convex combination between the points is a line segment, but the affine combination is a line through both points, as a coefficient can exceed the 1 bound and be i.e. 3, because there will be"
   ]
  },
  {
   "cell_type": "markdown",
   "metadata": {},
   "source": [
    "At this point the book introduces a class **Vec** that will represent the domain of a function as a set and the function itself as a dictionary."
   ]
  },
  {
   "cell_type": "code",
   "execution_count": 19,
   "metadata": {},
   "outputs": [],
   "source": [
    "class Vec:\n",
    "    def __init__(self, labels, function):\n",
    "        self.D = labels\n",
    "        self.f = function"
   ]
  },
  {
   "cell_type": "code",
   "execution_count": 20,
   "metadata": {},
   "outputs": [],
   "source": [
    "v = Vec({'A','B','C'}, {'A':1})"
   ]
  },
  {
   "cell_type": "markdown",
   "metadata": {},
   "source": [
    "**Quiz 2.7.1**: Write a procedure zero_vec(D) with the following spec:\n",
    "\n",
    "- input: a set D\n",
    "- output: an instance of Vec representing a D-vector all of whose entries have value zero"
   ]
  },
  {
   "cell_type": "code",
   "execution_count": 21,
   "metadata": {},
   "outputs": [],
   "source": [
    "def zero_vec(D):\n",
    "    return Vec(D, {})"
   ]
  },
  {
   "cell_type": "code",
   "execution_count": 22,
   "metadata": {},
   "outputs": [],
   "source": [
    "def setitem(v, d, val): v.f[d] = val"
   ]
  },
  {
   "cell_type": "code",
   "execution_count": 23,
   "metadata": {},
   "outputs": [],
   "source": [
    "setitem(v, 'B', 2.)"
   ]
  },
  {
   "cell_type": "markdown",
   "metadata": {},
   "source": [
    "**Quiz 2.7.2**: Write a procedure getitem(v, d) with the following spec: \n",
    "\n",
    "- input: an instance v of Vec, and an element d of the set v.D\n",
    "- output: the value of entry d of v\n",
    "\n",
    "Write your procedure in a way that takes into account the sparse-representation convention. Hint: the procedure can be written in one-line using a conditional expression (Section 0.5.3). You can use your procedure to obtain the 'A' entry of the vector v we defined earlier:\n",
    "\n",
    "getitem(v, 'A')\n",
    "1"
   ]
  },
  {
   "cell_type": "code",
   "execution_count": 24,
   "metadata": {},
   "outputs": [],
   "source": [
    "def getitem(v, d):\n",
    "    return v.f.get(d, 0)"
   ]
  },
  {
   "cell_type": "code",
   "execution_count": 25,
   "metadata": {},
   "outputs": [
    {
     "data": {
      "text/plain": [
       "1"
      ]
     },
     "execution_count": 25,
     "metadata": {},
     "output_type": "execute_result"
    }
   ],
   "source": [
    "getitem(v, 'A')"
   ]
  },
  {
   "cell_type": "code",
   "execution_count": 26,
   "metadata": {},
   "outputs": [
    {
     "data": {
      "text/plain": [
       "0"
      ]
     },
     "execution_count": 26,
     "metadata": {},
     "output_type": "execute_result"
    }
   ],
   "source": [
    "getitem(v, 'Z')"
   ]
  },
  {
   "cell_type": "markdown",
   "metadata": {},
   "source": [
    "**Quiz 2.7.3**: Write a procedure scalar_mul(v, alpha) with the following spec:\n",
    "\n",
    "- input: an instance of Vec and a scalar alpha\n",
    "- output: a new instance of Vec that represents the scalar-vector product alpha times v.\n",
    "    \n",
    "There is a nice way to ensure that the output vector is as sparse as the input vector, but you are not required to ensure this. You can use getitem(v, d) in your procedure but are not required to. Be careful to ensure that your procedure does not modify the vector it is passed as argument; it creates a new instance of Vec. However, the new instance should point to the same set D as the old instance."
   ]
  },
  {
   "cell_type": "code",
   "execution_count": 27,
   "metadata": {},
   "outputs": [],
   "source": [
    "def scalar_mul(v, alpha):\n",
    "    return Vec(v.D, {d: value*alpha for d,value in v.f.items()})"
   ]
  },
  {
   "cell_type": "code",
   "execution_count": 28,
   "metadata": {},
   "outputs": [
    {
     "data": {
      "text/plain": [
       "{'A': 2, 'B': 4.0}"
      ]
     },
     "execution_count": 28,
     "metadata": {},
     "output_type": "execute_result"
    }
   ],
   "source": [
    "scalar_mul(v, 2).f"
   ]
  },
  {
   "cell_type": "markdown",
   "metadata": {},
   "source": [
    "**Quiz 2.7.4**: Write a procedure add(u, v) with the following spec: \n",
    "\n",
    "- input: instances u and v of Vec\n",
    "- output: an instance of Vec that is the vector sum of u and v\n",
    "\n",
    "Here’s an example of the procedure being used:\n",
    "u = Vec(v.D, {'A':5., 'C':10.})\n",
    "add(u,v)\n",
    "<__main__.Vec object at 0x10058cd10>\n",
    "add(u,v).f\n",
    "{'A': 6.0, 'C': 10.0, 'B': 2.0}\n",
    "You are encouraged to use getitem(v, d) in order to tolerate sparse representations. You are encouraged not to try to make the output vector sparse. Finally, you are encouraged to use a dictionary comprehension to define the dictionary for the new instance of Vec."
   ]
  },
  {
   "cell_type": "code",
   "execution_count": 29,
   "metadata": {},
   "outputs": [],
   "source": [
    "def add(u, v):\n",
    "    return Vec(u.D | v.D, { d: getitem(u, d) + getitem(v, d) for d in u.D | v.D})"
   ]
  },
  {
   "cell_type": "code",
   "execution_count": 30,
   "metadata": {},
   "outputs": [],
   "source": [
    "u = Vec(v.D, {'A': 5., 'C': 10.})"
   ]
  },
  {
   "cell_type": "code",
   "execution_count": 31,
   "metadata": {},
   "outputs": [
    {
     "data": {
      "text/plain": [
       "{'A': 6.0, 'B': 2.0, 'C': 10.0}"
      ]
     },
     "execution_count": 31,
     "metadata": {},
     "output_type": "execute_result"
    }
   ],
   "source": [
    "add(u, v).f"
   ]
  },
  {
   "cell_type": "markdown",
   "metadata": {},
   "source": [
    "**Quiz 2.7.5**: Write a Python procedure neg(v) with the following spec: \n",
    "\n",
    "- input: an instance v of Vec\n",
    "- output: a dictionary representing the negative of v\n",
    "\n",
    "Here’s an example of the procedure being used:\n",
    "neg(v).f\n",
    "{'A': -1.0, 'C': 0, 'B': -2.0}\n",
    "There are two ways to write the procedure. One is by explicitly computing the .f field of the output vector using a comprehension. The other way is by using an appropriate call to the procedure scalar_mul you defined in Quiz 2.7.3."
   ]
  },
  {
   "cell_type": "code",
   "execution_count": 32,
   "metadata": {},
   "outputs": [],
   "source": [
    "def neg(v):\n",
    "    return scalar_mul(v, -1)"
   ]
  },
  {
   "cell_type": "code",
   "execution_count": 33,
   "metadata": {},
   "outputs": [
    {
     "data": {
      "text/plain": [
       "{'A': -1, 'B': -2.0}"
      ]
     },
     "execution_count": 33,
     "metadata": {},
     "output_type": "execute_result"
    }
   ],
   "source": [
    "neg(v).f"
   ]
  },
  {
   "cell_type": "markdown",
   "metadata": {},
   "source": [
    "**Quiz 2.9.4**: Write a procedure list_dot(u, v) with the following spec: \n",
    "\n",
    "- input: equal-length lists u and v of field elements\n",
    "- output: the dot-product of u and v interpreted as vectors\n",
    "\n",
    "Use the sum(·) procedure together with a list comprehension."
   ]
  },
  {
   "cell_type": "code",
   "execution_count": 34,
   "metadata": {},
   "outputs": [],
   "source": [
    "def list_dot(u, v):\n",
    "    return sum([a*b for a, b in zip(u, v)])"
   ]
  },
  {
   "cell_type": "markdown",
   "metadata": {},
   "source": [
    "**Quiz 2.9.13**: Suppose the haystack is [1, -1, 1, 1, 1, -1, 1, 1, 1] and the needle is [1, -1, 1, 1, -1, 1]. Compute the dot-products and indicate which position achieves the best match."
   ]
  },
  {
   "cell_type": "code",
   "execution_count": 35,
   "metadata": {},
   "outputs": [
    {
     "data": {
      "text/plain": [
       "[2, 2, 0, 0]"
      ]
     },
     "execution_count": 35,
     "metadata": {},
     "output_type": "execute_result"
    }
   ],
   "source": [
    "haystack = [1, -1, 1, 1, 1, -1, 1, 1, 1]\n",
    "needle =   [1, -1, 1, 1, -1, 1]\n",
    "[list_dot(haystack[n:n+len(needle)], needle) for n in range(len(haystack) - len(needle) + 1)]"
   ]
  },
  {
   "cell_type": "markdown",
   "metadata": {},
   "source": [
    "**Quiz 2.9.14**: This method of searching is not universally applicable. Say we wanted to locate the short clip [1, 2, 3] in the longer segment [1, 2, 3, 4, 5, 6]. What would the dot-product method select as the best match?\n",
    "\n",
    "Answer: It would select [4, 5, 6] as the best match"
   ]
  },
  {
   "cell_type": "markdown",
   "metadata": {},
   "source": [
    "**Quiz 2.9.15**: Write a procedure dot_product_list(needle,haystack) with the following spec:\n",
    "\n",
    "- input: a short list needle and a long list haystack, both containing numbers\n",
    "- output: a list of length len(haystack)-len(needle) such that entry i of the output list equals the dot-product of the needle with the equal-length sublist of haystack starting at position i"
   ]
  },
  {
   "cell_type": "code",
   "execution_count": 36,
   "metadata": {},
   "outputs": [],
   "source": [
    "def dot_product_list(needle, haystack):\n",
    "    return [list_dot(haystack[n:n+len(needle)], needle) for n in range(len(haystack) - len(needle) + 1)]"
   ]
  },
  {
   "cell_type": "code",
   "execution_count": 37,
   "metadata": {},
   "outputs": [
    {
     "data": {
      "text/plain": [
       "[2, 2, 0, 0]"
      ]
     },
     "execution_count": 37,
     "metadata": {},
     "output_type": "execute_result"
    }
   ],
   "source": [
    "dot_product_list([1, -1, 1, 1, -1, 1], [1, -1, 1, 1, 1, -1, 1, 1, 1])"
   ]
  },
  {
   "cell_type": "markdown",
   "metadata": {},
   "source": [
    "**Problem 2.9.29**: Eve knows the following challenges and responses:\n",
    "challenge response\n",
    "\n",
    "- 110011 0 \n",
    "- 101010 0 \n",
    "- 111011 1 \n",
    "- 001100 1\n",
    "\n",
    "Show how she can derive the right responses to the challenges 011101 and 000100."
   ]
  },
  {
   "cell_type": "code",
   "execution_count": 64,
   "metadata": {},
   "outputs": [],
   "source": [
    "def addl(u, v):\n",
    "    return [a+b for a,b in zip(u, v)]"
   ]
  },
  {
   "cell_type": "code",
   "execution_count": 65,
   "metadata": {},
   "outputs": [],
   "source": [
    "def add_n(veclist):\n",
    "    if len(veclist) == 1:\n",
    "        return veclist[0]\n",
    "    elif len(veclist) == 2:\n",
    "        return addl(veclist[0], veclist[1])\n",
    "    elif len(veclist) > 2:\n",
    "        return addl(addl(veclist[0], veclist[1]), add_n(veclist[2:]))\n",
    "        "
   ]
  },
  {
   "cell_type": "code",
   "execution_count": 68,
   "metadata": {},
   "outputs": [],
   "source": [
    "a = [1, 1, 0, 0, 1, 1]\n",
    "b = [1, 0, 1, 0, 1, 0]\n",
    "c = [1, 1, 1, 0, 1, 1]\n",
    "d = [0, 0, 1, 1, 0, 0]\n",
    "target1 = [0, 1, 1, 1, 0, 1]\n",
    "target2 = [0, 0, 0, 1, 0, 0]\n",
    "\n",
    "possible_sums = [[a, b, c, d], [a, b, c], [a, b, d], [b, c, d], [a, b], [a, c], [a, d], [b, c], [b, d], [c, d]]\n",
    "\n",
    "for vec_sum_elems in possible_sums:\n",
    "    vec_sum = add_n(vec_sum_elems)\n",
    "    if vec_sum == target2:\n",
    "        print(vec_sum_elems)\n",
    "        break"
   ]
  },
  {
   "cell_type": "markdown",
   "metadata": {},
   "source": [
    "**Quiz 2.10.1**: Write a procedure list2vec(L) with the following spec:\n",
    "\n",
    "- input: a list L of field elements\n",
    "- output: an instance v of Vec with domain {0, 1, 2, . . . , len(L) − 1} such that v[i] = L[i] for each integer i in the domain"
   ]
  },
  {
   "cell_type": "code",
   "execution_count": 69,
   "metadata": {},
   "outputs": [],
   "source": [
    "def list2vec(L):\n",
    "    len_L = len(L)\n",
    "    return Vec([range(len_L)], { i:L[i] for i in range(len_L)})"
   ]
  },
  {
   "cell_type": "markdown",
   "metadata": {},
   "source": [
    "**Quiz 2.11.2**: Using the above technique, solve the following system by hand:\n",
    "\n",
    "- 2x1 + 3x2 − 4x3 = 10\n",
    "-       1x2 + 2x3 = 3\n",
    "-             5x3 = 15\n",
    "\n",
    "Answer:\n",
    "\n",
    "- x3 = 15/5 = 3\n",
    "- x2 = 3 - 2(3) = 3 - 6 = -3\n",
    "- x1 = (10 - 3(-3) + 4(3))/2 = 31/2"
   ]
  },
  {
   "cell_type": "markdown",
   "metadata": {},
   "source": [
    "**Exercise 2.11.3**: Solve the following system:\n",
    "\n",
    "\\begin{align}\n",
    "1x_1 − 3x_2 − 2x_3 &= 7 \\\\\n",
    "2x_2 + 4x_3 &= 4 \\\\\n",
    "−10x_3 &= 12 \\\\\n",
    "\\end{align}\n",
    "\n",
    "Answer:\n",
    "\n",
    "\\begin{align}\n",
    "x_3 = \\frac{12}{-10} = \\frac{-6}{5} \\\\\n",
    "x_2 = \\frac{4 - 4\\frac{-6}{5}}{2} = \\frac{4 + \\frac{24}{5}}{2} = \\frac{22}{5} \\\\\n",
    "x_1 = 7 - 2 \\frac{-6}{5} - 3 \\frac{22}{5} = \\frac{89}{5}\n",
    "\\end{align}\n"
   ]
  },
  {
   "cell_type": "markdown",
   "metadata": {},
   "source": [
    "Write a procedure triangular_solve_n(rowlist, b) with the following spec:\n",
    "\n",
    "- input: for some integer n, a triangular system consisting of a list rowlist of n-vectors, and a length-n list b of numbers\n",
    "- output: a vector xˆ such that, for i = 0, 1, . . . , n − 1, the dot-product of rowlist[i] with xˆ equals b[i]\n"
   ]
  },
  {
   "cell_type": "code",
   "execution_count": 76,
   "metadata": {},
   "outputs": [
    {
     "ename": "ImportError",
     "evalue": "No module named vec",
     "output_type": "error",
     "traceback": [
      "\u001b[0;31m---------------------------------------------------------------------------\u001b[0m",
      "\u001b[0;31mImportError\u001b[0m                               Traceback (most recent call last)",
      "\u001b[0;32m<ipython-input-76-e1a41b452207>\u001b[0m in \u001b[0;36m<module>\u001b[0;34m()\u001b[0m\n\u001b[0;32m----> 1\u001b[0;31m \u001b[0;32mfrom\u001b[0m \u001b[0mvecutil\u001b[0m \u001b[0;32mimport\u001b[0m \u001b[0mvec\u001b[0m\u001b[0;34m\u001b[0m\u001b[0m\n\u001b[0m",
      "\u001b[0;32m/Users/pablo/my/org/learning/coding_the_matrix/vecutil.py\u001b[0m in \u001b[0;36m<module>\u001b[0;34m()\u001b[0m\n\u001b[1;32m      1\u001b[0m \u001b[0;31m# Copyright 2013 Philip N. Klein\u001b[0m\u001b[0;34m\u001b[0m\u001b[0;34m\u001b[0m\u001b[0m\n\u001b[0;32m----> 2\u001b[0;31m \u001b[0;32mfrom\u001b[0m \u001b[0mvec\u001b[0m \u001b[0;32mimport\u001b[0m \u001b[0mVec\u001b[0m\u001b[0;34m\u001b[0m\u001b[0m\n\u001b[0m\u001b[1;32m      3\u001b[0m \u001b[0;34m\u001b[0m\u001b[0m\n\u001b[1;32m      4\u001b[0m \u001b[0;32mdef\u001b[0m \u001b[0mlist2vec\u001b[0m\u001b[0;34m(\u001b[0m\u001b[0mL\u001b[0m\u001b[0;34m)\u001b[0m\u001b[0;34m:\u001b[0m\u001b[0;34m\u001b[0m\u001b[0m\n\u001b[1;32m      5\u001b[0m     \"\"\"Given a list L of field elements, return a Vec with domain {0...len(L)-1}\n",
      "\u001b[0;31mImportError\u001b[0m: No module named vec"
     ]
    }
   ],
   "source": [
    "from vecutil import vec"
   ]
  },
  {
   "cell_type": "code",
   "execution_count": 77,
   "metadata": {},
   "outputs": [],
   "source": [
    "def triangular_solve_n(rowlist, b):\n",
    "    D = rowlist[0].D\n",
    "    n = len(D)\n",
    "    assert D == set(range(n))\n",
    "    x = zero_vec(D)\n",
    "    for i in reversed(range(n)):\n",
    "        x[i] = (b[i] - rowlist[i] * x)/rowlist[i][i]\n",
    "    return x"
   ]
  },
  {
   "cell_type": "code",
   "execution_count": 72,
   "metadata": {},
   "outputs": [
    {
     "ename": "AssertionError",
     "evalue": "",
     "output_type": "error",
     "traceback": [
      "\u001b[0;31m---------------------------------------------------------------------------\u001b[0m",
      "\u001b[0;31mAssertionError\u001b[0m                            Traceback (most recent call last)",
      "\u001b[0;32m<ipython-input-72-0fba70024315>\u001b[0m in \u001b[0;36m<module>\u001b[0;34m()\u001b[0m\n\u001b[0;32m----> 1\u001b[0;31m \u001b[0mtriangular_solve_n\u001b[0m\u001b[0;34m(\u001b[0m\u001b[0;34m[\u001b[0m\u001b[0mlist2vec\u001b[0m\u001b[0;34m(\u001b[0m\u001b[0;34m[\u001b[0m\u001b[0;36m1\u001b[0m\u001b[0;34m,\u001b[0m \u001b[0;34m-\u001b[0m\u001b[0;36m3\u001b[0m\u001b[0;34m,\u001b[0m \u001b[0;34m-\u001b[0m\u001b[0;36m2\u001b[0m\u001b[0;34m]\u001b[0m\u001b[0;34m)\u001b[0m\u001b[0;34m,\u001b[0m \u001b[0mlist2vec\u001b[0m\u001b[0;34m(\u001b[0m\u001b[0;34m[\u001b[0m\u001b[0;36m0\u001b[0m\u001b[0;34m,\u001b[0m \u001b[0;36m2\u001b[0m\u001b[0;34m,\u001b[0m \u001b[0;36m4\u001b[0m\u001b[0;34m]\u001b[0m\u001b[0;34m)\u001b[0m\u001b[0;34m,\u001b[0m \u001b[0mlist2vec\u001b[0m\u001b[0;34m(\u001b[0m\u001b[0;34m[\u001b[0m\u001b[0;36m0\u001b[0m\u001b[0;34m,\u001b[0m \u001b[0;36m0\u001b[0m\u001b[0;34m,\u001b[0m \u001b[0;34m-\u001b[0m\u001b[0;36m10\u001b[0m\u001b[0;34m]\u001b[0m\u001b[0;34m)\u001b[0m\u001b[0;34m]\u001b[0m\u001b[0;34m,\u001b[0m \u001b[0;34m[\u001b[0m\u001b[0;36m7\u001b[0m\u001b[0;34m,\u001b[0m \u001b[0;36m4\u001b[0m\u001b[0;34m,\u001b[0m \u001b[0;36m12\u001b[0m\u001b[0;34m]\u001b[0m\u001b[0;34m)\u001b[0m\u001b[0;34m\u001b[0m\u001b[0m\n\u001b[0m",
      "\u001b[0;32m<ipython-input-71-6eda44571f90>\u001b[0m in \u001b[0;36mtriangular_solve_n\u001b[0;34m(rowlist, b)\u001b[0m\n\u001b[1;32m      2\u001b[0m     \u001b[0mD\u001b[0m \u001b[0;34m=\u001b[0m \u001b[0mrowlist\u001b[0m\u001b[0;34m[\u001b[0m\u001b[0;36m0\u001b[0m\u001b[0;34m]\u001b[0m\u001b[0;34m.\u001b[0m\u001b[0mD\u001b[0m\u001b[0;34m\u001b[0m\u001b[0m\n\u001b[1;32m      3\u001b[0m     \u001b[0mn\u001b[0m \u001b[0;34m=\u001b[0m \u001b[0mlen\u001b[0m\u001b[0;34m(\u001b[0m\u001b[0mD\u001b[0m\u001b[0;34m)\u001b[0m\u001b[0;34m\u001b[0m\u001b[0m\n\u001b[0;32m----> 4\u001b[0;31m     \u001b[0;32massert\u001b[0m \u001b[0mD\u001b[0m \u001b[0;34m==\u001b[0m \u001b[0mset\u001b[0m\u001b[0;34m(\u001b[0m\u001b[0mrange\u001b[0m\u001b[0;34m(\u001b[0m\u001b[0mn\u001b[0m\u001b[0;34m)\u001b[0m\u001b[0;34m)\u001b[0m\u001b[0;34m\u001b[0m\u001b[0m\n\u001b[0m\u001b[1;32m      5\u001b[0m     \u001b[0mx\u001b[0m \u001b[0;34m=\u001b[0m \u001b[0mzero_vec\u001b[0m\u001b[0;34m(\u001b[0m\u001b[0mD\u001b[0m\u001b[0;34m)\u001b[0m\u001b[0;34m\u001b[0m\u001b[0m\n\u001b[1;32m      6\u001b[0m     \u001b[0;32mfor\u001b[0m \u001b[0mi\u001b[0m \u001b[0;32min\u001b[0m \u001b[0mreversed\u001b[0m\u001b[0;34m(\u001b[0m\u001b[0mrange\u001b[0m\u001b[0;34m(\u001b[0m\u001b[0mn\u001b[0m\u001b[0;34m)\u001b[0m\u001b[0;34m)\u001b[0m\u001b[0;34m:\u001b[0m\u001b[0;34m\u001b[0m\u001b[0m\n",
      "\u001b[0;31mAssertionError\u001b[0m: "
     ]
    }
   ],
   "source": [
    "triangular_solve_n([list2vec([1, -3, -2]), list2vec([0, 2, 4]), list2vec([0, 0, -10])], [7, 4, 12])"
   ]
  },
  {
   "cell_type": "code",
   "execution_count": null,
   "metadata": {},
   "outputs": [],
   "source": []
  }
 ],
 "metadata": {
  "kernelspec": {
   "display_name": "Python 2",
   "language": "python",
   "name": "python2"
  },
  "language_info": {
   "codemirror_mode": {
    "name": "ipython",
    "version": 3
   },
   "file_extension": ".py",
   "mimetype": "text/x-python",
   "name": "python",
   "nbconvert_exporter": "python",
   "pygments_lexer": "ipython3",
   "version": "3.6.2"
  }
 },
 "nbformat": 4,
 "nbformat_minor": 2
}
