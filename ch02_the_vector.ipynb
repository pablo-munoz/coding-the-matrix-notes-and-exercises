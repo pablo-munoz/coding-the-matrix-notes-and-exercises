{
 "cells": [
  {
   "cell_type": "markdown",
   "metadata": {},
   "source": [
    "# Chapter 2: The Vector\n",
    "\n",
    "The book's definition of a vector was surprising to me, as they define a vector as a function:\n",
    "\n",
    "> For a finite set D and a field F, a D-vector over F is a function from D to F.\n",
    "\n",
    "For example, the vector [3.14159,2.718281828,−1.0,2.0] can be thought of as the function:\n",
    "\n",
    "0 -> 3.14159\n",
    "\n",
    "1 -> 2.718281828\n",
    "\n",
    "2 -> -1.0\n",
    "\n",
    "3 -> 2.0\n",
    "\n",
    "In python, we may represent a vector as a list or as a dictionary. Dictionaries allow us to implement **sparse vectors** by adopting the convetion that those entries that do not appear in the dictionary have their image be equal to zero.\n",
    "\n",
    "A vector most of whose values are zero is called a sparse vector. If no more than k of the entries are nonzero, we say the vector is k-sparse. A k-sparse vector can be represented using space proportional to k."
   ]
  },
  {
   "cell_type": "code",
   "execution_count": 1,
   "metadata": {},
   "outputs": [],
   "source": [
    "import numpy as np\n",
    "from plotting import plot, matplotlib\n",
    "%matplotlib inline\n",
    "matplotlib.rcParams['figure.figsize'] = (6,6)"
   ]
  },
  {
   "cell_type": "markdown",
   "metadata": {},
   "source": [
    "**Task 2.3.2**: In this task, we will represent a vector using a Python list. In Python, assign to the variable L a list of 2-element lists:"
   ]
  },
  {
   "cell_type": "code",
   "execution_count": 2,
   "metadata": {},
   "outputs": [
    {
     "data": {
      "image/png": "[encoded data removed]",
      "text/plain": [
       "<matplotlib.figure.Figure at 0x105bbcac8>"
      ]
     },
     "metadata": {},
     "output_type": "display_data"
    }
   ],
   "source": [
    "L = [[2, 2], [3, 2], [1.75, 1], [2, 1], [2.25, 1], [2.5, 1], [2.75, 1], [3, 1], [3.25, 1]]\n",
    "plot(L, 4)"
   ]
  },
  {
   "cell_type": "markdown",
   "metadata": {},
   "source": [
    "## Vector Addition"
   ]
  },
  {
   "cell_type": "code",
   "execution_count": 3,
   "metadata": {},
   "outputs": [],
   "source": [
    "def add2(v,w):\n",
    "    return [v[0]+w[0], v[1]+w[1]]"
   ]
  },
  {
   "cell_type": "markdown",
   "metadata": {},
   "source": [
    "**Task 2.4.3*: Recall the list L defined in Task 2.3.2. Enter the procedure definition for 2-vector addition, and use a comprehension to plot the points obtained from L by adding [1, 2] to each:"
   ]
  },
  {
   "cell_type": "code",
   "execution_count": 4,
   "metadata": {},
   "outputs": [
    {
     "data": {
      "image/png": "[encoded data removed]",
      "text/plain": [
       "<matplotlib.figure.Figure at 0x105dd74e0>"
      ]
     },
     "metadata": {},
     "output_type": "display_data"
    }
   ],
   "source": [
    "plot([add2(v, [1,2]) for v in L], 4)"
   ]
  },
  {
   "cell_type": "markdown",
   "metadata": {},
   "source": [
    "**Quiz 2.4.4**: Suppose we represent n-vectors by n-element lists. Write a procedure addn to compute the sum of two vectors so represented"
   ]
  },
  {
   "cell_type": "code",
   "execution_count": 5,
   "metadata": {},
   "outputs": [],
   "source": [
    "def addn(v, w):\n",
    "    return [sum(x) for x in zip(v,w)]"
   ]
  },
  {
   "cell_type": "code",
   "execution_count": 6,
   "metadata": {},
   "outputs": [
    {
     "data": {
      "text/plain": [
       "[5, 7, 9]"
      ]
     },
     "execution_count": 6,
     "metadata": {},
     "output_type": "execute_result"
    }
   ],
   "source": [
    "addn([1, 2, 3], [4, 5, 6])"
   ]
  },
  {
   "cell_type": "markdown",
   "metadata": {},
   "source": [
    "## Scalar Vector Multiplication\n",
    "Multiplying a vector $v$ by a scalar $\\alpha$ is defined as multiplying each entry of $v$ by $\\alpha$"
   ]
  },
  {
   "cell_type": "markdown",
   "metadata": {},
   "source": [
    "**Quiz 2.5.3**: Suppose we represent n-vectors by n-element lists. Write a procedure scalar_vector_mult(alpha, v) that multiplies the vector v by the scalar alpha."
   ]
  },
  {
   "cell_type": "code",
   "execution_count": 7,
   "metadata": {},
   "outputs": [],
   "source": [
    "def scalar_vector_mult(alpha, v):\n",
    "    return [alpha * n for n in v]"
   ]
  },
  {
   "cell_type": "markdown",
   "metadata": {},
   "source": [
    "**Task 2.5.4**: Plot the result of scaling the vectors in L by 0.5, then plot the result of scaling them by -0.5."
   ]
  },
  {
   "cell_type": "code",
   "execution_count": 8,
   "metadata": {},
   "outputs": [],
   "source": [
    "L_scaled_by_0_5 = [scalar_vector_mult(0.5, v) for v in L]\n",
    "L_scaled_by_minus_0_5 = [scalar_vector_mult(-0.5, v) for v in L]"
   ]
  },
  {
   "cell_type": "code",
   "execution_count": 9,
   "metadata": {},
   "outputs": [
    {
     "data": {
      "image/png": "[encoded data removed]",
      "text/plain": [
       "<matplotlib.figure.Figure at 0x105e83ba8>"
      ]
     },
     "metadata": {},
     "output_type": "display_data"
    }
   ],
   "source": [
    "plot(L_scaled_by_0_5)"
   ]
  },
  {
   "cell_type": "code",
   "execution_count": 10,
   "metadata": {},
   "outputs": [
    {
     "data": {
      "image/png": "[encoded data removed]",
      "text/plain": [
       "<matplotlib.figure.Figure at 0x105f42668>"
      ]
     },
     "metadata": {},
     "output_type": "display_data"
    }
   ],
   "source": [
    "plot(L_scaled_by_minus_0_5)"
   ]
  },
  {
   "cell_type": "code",
   "execution_count": 11,
   "metadata": {},
   "outputs": [
    {
     "data": {
      "image/png": "[encoded data removed]",
      "text/plain": [
       "<matplotlib.figure.Figure at 0x105f03860>"
      ]
     },
     "metadata": {},
     "output_type": "display_data"
    }
   ],
   "source": [
    "v = [3, 2]\n",
    "plot([scalar_vector_mult(i/10, v) for i in range(11)], 5)"
   ]
  },
  {
   "cell_type": "code",
   "execution_count": 12,
   "metadata": {},
   "outputs": [
    {
     "data": {
      "image/png": "[encoded data removed]",
      "text/plain": [
       "<matplotlib.figure.Figure at 0x10602bbe0>"
      ]
     },
     "metadata": {},
     "output_type": "display_data"
    }
   ],
   "source": [
    "plot([scalar_vector_mult(i/100, v) for i in range(101)], 5)"
   ]
  },
  {
   "cell_type": "markdown",
   "metadata": {},
   "source": [
    "## 2.6: Combining vector addition and scalar multiplication"
   ]
  },
  {
   "cell_type": "code",
   "execution_count": 13,
   "metadata": {},
   "outputs": [
    {
     "data": {
      "image/png": "[encoded data removed]",
      "text/plain": [
       "<matplotlib.figure.Figure at 0x1060f3b70>"
      ]
     },
     "metadata": {},
     "output_type": "display_data"
    }
   ],
   "source": [
    "plot([add2(scalar_vector_mult(i/100., [3,2]), [0.5,1]) for i in range(101)], 4)"
   ]
  },
  {
   "cell_type": "markdown",
   "metadata": {},
   "source": [
    "**Exericse 2.6.1** Given points u = [2,3] and v = [5,7] in R2, what is the point w such that the origin-to-w line segment can be translated to yield the u-to-v line segment? And what is the translation vector that is applied to both endpoints?"
   ]
  },
  {
   "cell_type": "code",
   "execution_count": 14,
   "metadata": {},
   "outputs": [
    {
     "data": {
      "image/png": "[encoded data removed]",
      "text/plain": [
       "<matplotlib.figure.Figure at 0x10623e5c0>"
      ]
     },
     "metadata": {},
     "output_type": "display_data"
    }
   ],
   "source": [
    "u = [2, 3]\n",
    "v = [5, 7]\n",
    "w = add2(v, scalar_vector_mult(-1, u))\n",
    "transl = u\n",
    "plot([add2(transl, scalar_vector_mult(i/100., w)) for i in range(101)])"
   ]
  },
  {
   "cell_type": "markdown",
   "metadata": {},
   "source": [
    "**Exercise 2.6.2**: Given a pair of points, u = [1,4], v = [6,3] in R2, write a mathematical expressing giving the set of points making up the line segment between the points.\n",
    "\n",
    "Answer:\n",
    "\n",
    "$\\{u + \\alpha(v - u), \\alpha \\in R, 0 \\leq \\alpha \\leq 1\\}$"
   ]
  },
  {
   "cell_type": "markdown",
   "metadata": {},
   "source": [
    "An expression of the form αu+βv where α,β ≥ 0 and α+β = 1 is called a convex combination of u and v. Which leads us to\n",
    "the fact that the u-to-v line segment consists of the set of convex combinations of u and v."
   ]
  },
  {
   "cell_type": "markdown",
   "metadata": {},
   "source": [
    "**Task 2.6.9**: Write a python procedure segment(pt1, pt2) that, given points represented as 2-element lists, returns a list of a hundred points spaced evenly along the line segment whose endpoints are the two points\n",
    "Plot the hundred points resulting when pt1 = [3.5, 3] and pt2 = [0.5, 1]"
   ]
  },
  {
   "cell_type": "code",
   "execution_count": 15,
   "metadata": {},
   "outputs": [],
   "source": [
    "def segment(pt1, pt2):\n",
    "    return [add2(scalar_vector_mult(i/100, pt1), scalar_vector_mult(1-(i/100), pt2)) for i in range(101)]"
   ]
  },
  {
   "cell_type": "code",
   "execution_count": 16,
   "metadata": {},
   "outputs": [
    {
     "data": {
      "image/png": "[encoded data removed]",
      "text/plain": [
       "<matplotlib.figure.Figure at 0x1062d64a8>"
      ]
     },
     "metadata": {},
     "output_type": "display_data"
    }
   ],
   "source": [
    "plot(segment([3,2], [0.5, 1]))"
   ]
  },
  {
   "cell_type": "markdown",
   "metadata": {},
   "source": [
    "The difference between convex and affine combinations it that, in a convex combination, the coefficients $\\alpha$, $\\beta$, ... have to be positive. In affine combinations there is no such restrition. In the 2D case, a convex combination between the points is a line segment, but the affine combination is a line through both points, as a coefficient can exceed the 1 bound and be i.e. 3, because there will be"
   ]
  },
  {
   "cell_type": "markdown",
   "metadata": {},
   "source": [
    "At this point the book introduces a class **Vec** that will represent the domain of a function as a set and the function itself as a dictionary."
   ]
  },
  {
   "cell_type": "markdown",
   "metadata": {},
   "source": [
    "## Dictionary-based representations of vectors"
   ]
  },
  {
   "cell_type": "code",
   "execution_count": 17,
   "metadata": {},
   "outputs": [],
   "source": [
    "class Vec:\n",
    "    def __init__(self, labels, function):\n",
    "        self.D = labels\n",
    "        self.f = function"
   ]
  },
  {
   "cell_type": "code",
   "execution_count": 18,
   "metadata": {},
   "outputs": [],
   "source": [
    "v = Vec({'A','B','C'}, {'A':1})"
   ]
  },
  {
   "cell_type": "markdown",
   "metadata": {},
   "source": [
    "**Quiz 2.7.1**: Write a procedure zero_vec(D) with the following spec:\n",
    "\n",
    "- input: a set D\n",
    "- output: an instance of Vec representing a D-vector all of whose entries have value zero"
   ]
  },
  {
   "cell_type": "code",
   "execution_count": 19,
   "metadata": {},
   "outputs": [],
   "source": [
    "def zero_vec(D):\n",
    "    return Vec(D, {}) # Exploiting the sparse representation"
   ]
  },
  {
   "cell_type": "code",
   "execution_count": 20,
   "metadata": {},
   "outputs": [],
   "source": [
    "def setitem(v, d, val): v.f[d] = val"
   ]
  },
  {
   "cell_type": "code",
   "execution_count": 21,
   "metadata": {},
   "outputs": [],
   "source": [
    "setitem(v, 'B', 2.)"
   ]
  },
  {
   "cell_type": "markdown",
   "metadata": {},
   "source": [
    "**Quiz 2.7.2**: Write a procedure getitem(v, d) with the following spec: \n",
    "\n",
    "- input: an instance v of Vec, and an element d of the set v.D\n",
    "- output: the value of entry d of v\n",
    "\n",
    "Write your procedure in a way that takes into account the sparse-representation convention. Hint: the procedure can be written in one-line using a conditional expression (Section 0.5.3). You can use your procedure to obtain the 'A' entry of the vector v we defined earlier:\n",
    "\n",
    "getitem(v, 'A')\n",
    "1"
   ]
  },
  {
   "cell_type": "code",
   "execution_count": 22,
   "metadata": {},
   "outputs": [],
   "source": [
    "def getitem(v, d):\n",
    "    return v.f.get(d, 0)"
   ]
  },
  {
   "cell_type": "code",
   "execution_count": 23,
   "metadata": {},
   "outputs": [
    {
     "data": {
      "text/plain": [
       "1"
      ]
     },
     "execution_count": 23,
     "metadata": {},
     "output_type": "execute_result"
    }
   ],
   "source": [
    "getitem(v, 'A')"
   ]
  },
  {
   "cell_type": "code",
   "execution_count": 24,
   "metadata": {},
   "outputs": [
    {
     "data": {
      "text/plain": [
       "0"
      ]
     },
     "execution_count": 24,
     "metadata": {},
     "output_type": "execute_result"
    }
   ],
   "source": [
    "getitem(v, 'Z')"
   ]
  },
  {
   "cell_type": "markdown",
   "metadata": {},
   "source": [
    "**Quiz 2.7.3**: Write a procedure scalar_mul(v, alpha) with the following spec:\n",
    "\n",
    "- input: an instance of Vec and a scalar alpha\n",
    "- output: a new instance of Vec that represents the scalar-vector product alpha times v.\n",
    "    \n",
    "There is a nice way to ensure that the output vector is as sparse as the input vector, but you are not required to ensure this. You can use getitem(v, d) in your procedure but are not required to. Be careful to ensure that your procedure does not modify the vector it is passed as argument; it creates a new instance of Vec. However, the new instance should point to the same set D as the old instance."
   ]
  },
  {
   "cell_type": "code",
   "execution_count": 25,
   "metadata": {},
   "outputs": [],
   "source": [
    "def scalar_mul(v, alpha):\n",
    "    return Vec([d for d in v.D], {d: value*alpha for d,value in v.f.items()})"
   ]
  },
  {
   "cell_type": "code",
   "execution_count": 26,
   "metadata": {},
   "outputs": [
    {
     "data": {
      "text/plain": [
       "{'A': 2, 'B': 4.0}"
      ]
     },
     "execution_count": 26,
     "metadata": {},
     "output_type": "execute_result"
    }
   ],
   "source": [
    "scalar_mul(v, 2).f"
   ]
  },
  {
   "cell_type": "markdown",
   "metadata": {},
   "source": [
    "**Quiz 2.7.4**: Write a procedure add(u, v) with the following spec: \n",
    "\n",
    "- input: instances u and v of Vec\n",
    "- output: an instance of Vec that is the vector sum of u and v\n",
    "\n",
    "Here’s an example of the procedure being used:\n",
    "u = Vec(v.D, {'A':5., 'C':10.})\n",
    "add(u,v)\n",
    "<__main__.Vec object at 0x10058cd10>\n",
    "add(u,v).f\n",
    "{'A': 6.0, 'C': 10.0, 'B': 2.0}\n",
    "You are encouraged to use getitem(v, d) in order to tolerate sparse representations. You are encouraged not to try to make the output vector sparse. Finally, you are encouraged to use a dictionary comprehension to define the dictionary for the new instance of Vec."
   ]
  },
  {
   "cell_type": "code",
   "execution_count": 27,
   "metadata": {},
   "outputs": [],
   "source": [
    "def add(u, v):\n",
    "    return Vec(u.D | v.D, { d: getitem(u, d) + getitem(v, d) for d in u.D | v.D})"
   ]
  },
  {
   "cell_type": "code",
   "execution_count": 28,
   "metadata": {},
   "outputs": [],
   "source": [
    "u = Vec(v.D, {'A': 5., 'C': 10.})"
   ]
  },
  {
   "cell_type": "code",
   "execution_count": 29,
   "metadata": {},
   "outputs": [
    {
     "data": {
      "text/plain": [
       "{'A': 6.0, 'B': 2.0, 'C': 10.0}"
      ]
     },
     "execution_count": 29,
     "metadata": {},
     "output_type": "execute_result"
    }
   ],
   "source": [
    "add(u, v).f"
   ]
  },
  {
   "cell_type": "markdown",
   "metadata": {},
   "source": [
    "**Quiz 2.7.5**: Write a Python procedure neg(v) with the following spec: \n",
    "\n",
    "- input: an instance v of Vec\n",
    "- output: a dictionary representing the negative of v\n",
    "\n",
    "Here’s an example of the procedure being used:\n",
    "neg(v).f\n",
    "{'A': -1.0, 'C': 0, 'B': -2.0}\n",
    "There are two ways to write the procedure. One is by explicitly computing the .f field of the output vector using a comprehension. The other way is by using an appropriate call to the procedure scalar_mul you defined in Quiz 2.7.3."
   ]
  },
  {
   "cell_type": "code",
   "execution_count": 30,
   "metadata": {},
   "outputs": [],
   "source": [
    "def neg(v):\n",
    "    return scalar_mul(v, -1)"
   ]
  },
  {
   "cell_type": "code",
   "execution_count": 31,
   "metadata": {},
   "outputs": [
    {
     "data": {
      "text/plain": [
       "{'A': -1, 'B': -2.0}"
      ]
     },
     "execution_count": 31,
     "metadata": {},
     "output_type": "execute_result"
    }
   ],
   "source": [
    "neg(v).f"
   ]
  },
  {
   "cell_type": "markdown",
   "metadata": {},
   "source": [
    "**Quiz 2.9.4**: Write a procedure list_dot(u, v) with the following spec: \n",
    "\n",
    "- input: equal-length lists u and v of field elements\n",
    "- output: the dot-product of u and v interpreted as vectors\n",
    "\n",
    "Use the sum(·) procedure together with a list comprehension."
   ]
  },
  {
   "cell_type": "code",
   "execution_count": 32,
   "metadata": {},
   "outputs": [],
   "source": [
    "def list_dot(u, v):\n",
    "    return sum([a*b for a, b in zip(u, v)])"
   ]
  },
  {
   "cell_type": "markdown",
   "metadata": {},
   "source": [
    "**Quiz 2.9.13**: Suppose the haystack is [1, -1, 1, 1, 1, -1, 1, 1, 1] and the needle is [1, -1, 1, 1, -1, 1]. Compute the dot-products and indicate which position achieves the best match."
   ]
  },
  {
   "cell_type": "code",
   "execution_count": 33,
   "metadata": {},
   "outputs": [
    {
     "data": {
      "text/plain": [
       "[2, 2, 0, 0]"
      ]
     },
     "execution_count": 33,
     "metadata": {},
     "output_type": "execute_result"
    }
   ],
   "source": [
    "haystack = [1, -1, 1, 1, 1, -1, 1, 1, 1]\n",
    "needle =   [1, -1, 1, 1, -1, 1]\n",
    "[list_dot(haystack[n:n+len(needle)], needle) for n in range(len(haystack) - len(needle) + 1)]"
   ]
  },
  {
   "cell_type": "markdown",
   "metadata": {},
   "source": [
    "**Quiz 2.9.14**: This method of searching is not universally applicable. Say we wanted to locate the short clip [1, 2, 3] in the longer segment [1, 2, 3, 4, 5, 6]. What would the dot-product method select as the best match?\n",
    "\n",
    "Answer: It would select [4, 5, 6] as the best match"
   ]
  },
  {
   "cell_type": "markdown",
   "metadata": {},
   "source": [
    "**Quiz 2.9.15**: Write a procedure dot_product_list(needle,haystack) with the following spec:\n",
    "\n",
    "- input: a short list needle and a long list haystack, both containing numbers\n",
    "- output: a list of length len(haystack)-len(needle) such that entry i of the output list equals the dot-product of the needle with the equal-length sublist of haystack starting at position i"
   ]
  },
  {
   "cell_type": "code",
   "execution_count": 34,
   "metadata": {},
   "outputs": [],
   "source": [
    "def dot_product_list(needle, haystack):\n",
    "    return [list_dot(haystack[n:n+len(needle)], needle) for n in range(len(haystack) - len(needle) + 1)]"
   ]
  },
  {
   "cell_type": "code",
   "execution_count": 35,
   "metadata": {},
   "outputs": [
    {
     "data": {
      "text/plain": [
       "[2, 2, 0, 0]"
      ]
     },
     "execution_count": 35,
     "metadata": {},
     "output_type": "execute_result"
    }
   ],
   "source": [
    "dot_product_list([1, -1, 1, 1, -1, 1], [1, -1, 1, 1, 1, -1, 1, 1, 1])"
   ]
  },
  {
   "cell_type": "markdown",
   "metadata": {},
   "source": [
    "**Problem 2.9.29**: Eve knows the following challenges and responses:\n",
    "challenge response\n",
    "\n",
    "- 110011 0 \n",
    "- 101010 0 \n",
    "- 111011 1 \n",
    "- 001100 1\n",
    "\n",
    "Show how she can derive the right responses to the challenges 011101 and 000100:\n",
    "\n",
    "Consider that 101010 + 111011 + 001100 = 011101, then the correct response to the challenge is the sum of the responses that correspond to each operand, i.e. 0 + 1 + 1 = 0\n",
    "\n",
    "Consider that 110011 + 111011 + 001100 = 000100, then the correct response to the challenge is the sum of the responses that correspond to each operand, i.e. 0 + 1 + 1 = 0"
   ]
  },
  {
   "cell_type": "markdown",
   "metadata": {},
   "source": [
    "**Quiz 2.10.1**: Write a procedure list2vec(L) with the following spec:\n",
    "\n",
    "- input: a list L of field elements\n",
    "- output: an instance v of Vec with domain {0, 1, 2, . . . , len(L) − 1} such that v[i] = L[i] for each integer i in the domain"
   ]
  },
  {
   "cell_type": "code",
   "execution_count": 36,
   "metadata": {},
   "outputs": [],
   "source": [
    "def list2vec(L):\n",
    "    len_L = len(L)\n",
    "    return Vec(set(range(len_L)), { i:L[i] for i in range(len_L)})"
   ]
  },
  {
   "cell_type": "markdown",
   "metadata": {},
   "source": [
    "**Quiz 2.11.2**: Using the above technique, solve the following system by hand:\n",
    "\n",
    "- 2x1 + 3x2 − 4x3 = 10\n",
    "-       1x2 + 2x3 = 3\n",
    "-             5x3 = 15\n",
    "\n",
    "Answer:\n",
    "\n",
    "- x3 = 15/5 = 3\n",
    "- x2 = 3 - 2(3) = 3 - 6 = -3\n",
    "- x1 = (10 - 3(-3) + 4(3))/2 = 31/2"
   ]
  },
  {
   "cell_type": "markdown",
   "metadata": {},
   "source": [
    "**Exercise 2.11.3**: Solve the following system:\n",
    "\n",
    "\\begin{align}\n",
    "1x_1 − 3x_2 − 2x_3 &= 7 \\\\\n",
    "2x_2 + 4x_3 &= 4 \\\\\n",
    "−10x_3 &= 12 \\\\\n",
    "\\end{align}\n",
    "\n",
    "Answer:\n",
    "\n",
    "\\begin{align}\n",
    "x_3 = \\frac{12}{-10} = \\frac{-6}{5} \\\\\n",
    "x_2 = \\frac{4 - 4\\frac{-6}{5}}{2} = \\frac{4 + \\frac{24}{5}}{2} = \\frac{22}{5} \\\\\n",
    "x_1 = 7 - 2 \\frac{-6}{5} - 3 \\frac{22}{5} = \\frac{89}{5}\n",
    "\\end{align}\n"
   ]
  },
  {
   "cell_type": "markdown",
   "metadata": {},
   "source": [
    "Write a procedure triangular_solve_n(rowlist, b) with the following spec:\n",
    "\n",
    "- input: for some integer n, a triangular system consisting of a list rowlist of n-vectors, and a length-n list b of numbers\n",
    "- output: a vector xˆ such that, for i = 0, 1, . . . , n − 1, the dot-product of rowlist[i] with xˆ equals b[i]\n"
   ]
  },
  {
   "cell_type": "code",
   "execution_count": 37,
   "metadata": {},
   "outputs": [],
   "source": [
    "from vec import Vec"
   ]
  },
  {
   "cell_type": "code",
   "execution_count": 38,
   "metadata": {},
   "outputs": [],
   "source": [
    "def triangular_solve_n(rowlist, b):\n",
    "    D = rowlist[0].D\n",
    "    n = len(D)\n",
    "    assert D == set(range(n))\n",
    "    x = zero_vec(D)\n",
    "    for i in reversed(range(n)):\n",
    "        x[i] = (b[i] - rowlist[i] * x)/rowlist[i][i]\n",
    "    return x"
   ]
  },
  {
   "cell_type": "code",
   "execution_count": 39,
   "metadata": {},
   "outputs": [
    {
     "data": {
      "text/plain": [
       "Vec({0, 1, 2},{2: -1.2, 1: 4.4, 0: 17.8})"
      ]
     },
     "execution_count": 39,
     "metadata": {},
     "output_type": "execute_result"
    }
   ],
   "source": [
    "triangular_solve_n([list2vec([1, -3, -2]), list2vec([0, 2, 4]), list2vec([0, 0, -10])], list2vec([7, 4, 12]))"
   ]
  },
  {
   "cell_type": "markdown",
   "metadata": {},
   "source": [
    "## Lab: Comparing voting records using dot product"
   ]
  },
  {
   "cell_type": "code",
   "execution_count": 41,
   "metadata": {},
   "outputs": [],
   "source": [
    "f = open('voting_record_dump109.txt')\n",
    "mylist = list(f)"
   ]
  },
  {
   "cell_type": "markdown",
   "metadata": {},
   "source": [
    "**Task 2.12.1**: Write a procedure create voting dict(strlist) that, given a list of strings (voting records from the source file), returns a dictionary that maps the last name of a senator to a list of numbers representing that senator’s voting record. You will need to use the built-in procedure int(·) to convert a string representation of an integer (e.g. ‘1’) to the actual integer (e.g. 1)."
   ]
  },
  {
   "cell_type": "code",
   "execution_count": 50,
   "metadata": {},
   "outputs": [],
   "source": [
    "def create_voting_dict(strlist):\n",
    "    voting_dict = {}\n",
    "    for row in strlist:\n",
    "        tokens = row.split()\n",
    "        voting_dict[tokens[0]] = list(map(int, tokens[3:]))\n",
    "    return voting_dict"
   ]
  },
  {
   "cell_type": "code",
   "execution_count": 59,
   "metadata": {},
   "outputs": [],
   "source": [
    "voting_dict = create_voting_dict(mylist)"
   ]
  },
  {
   "cell_type": "markdown",
   "metadata": {},
   "source": [
    "**Task 2.12.2**: Write a procedure policy compare(sen a, sen b, voting dict) that, given two names of senators and a dictionary mapping senator names to lists representing voting records, returns the dot-product representing the degree of similarity between two senators’ voting policies."
   ]
  },
  {
   "cell_type": "code",
   "execution_count": 68,
   "metadata": {},
   "outputs": [],
   "source": [
    "def policy_compare(sen_a, sen_b, voting_dict):\n",
    "    return list_dot(voting_dict[sen_a], voting_dict[sen_b])"
   ]
  },
  {
   "cell_type": "markdown",
   "metadata": {},
   "source": [
    "**Task 2.12.3**: Write a procedure most similar(sen, voting dict) that, given the name of a senator and a dictionary mapping senator names to lists representing voting records, returns the name of the senator whose political mindset is most like the input senator (excluding, of course, the input senator him/herself)."
   ]
  },
  {
   "cell_type": "code",
   "execution_count": 69,
   "metadata": {},
   "outputs": [],
   "source": [
    "def most_similar(sen, voting_dict):\n",
    "    most_similar_senator = None\n",
    "    most_similar_score = float('-Inf')\n",
    "    for other_senator_name in voting_dict.keys():\n",
    "        if other_senator_name == sen: continue\n",
    "        similarity_score = policy_compare(sen, other_senator_name, voting_dict)\n",
    "        if similarity_score > most_similar_score:\n",
    "            most_similar_senator = other_senator_name\n",
    "            most_similar_score = similarity_score\n",
    "    return most_similar_senator"
   ]
  },
  {
   "cell_type": "markdown",
   "metadata": {},
   "source": [
    "**Task 2.12.4**: Write a very similar procedure least similar(sen, voting dict) that returns the name of the senator whose voting record agrees the least with the senator whose name is sen."
   ]
  },
  {
   "cell_type": "code",
   "execution_count": 74,
   "metadata": {},
   "outputs": [],
   "source": [
    "def least_similar(sen, voting_dict):\n",
    "    least_similar_senator = None\n",
    "    least_similar_score = float('Inf')\n",
    "    for other_senator_name in voting_dict.keys():\n",
    "        if other_senator_name == sen: continue\n",
    "        similarity_score = policy_compare(sen, other_senator_name, voting_dict)\n",
    "        if similarity_score < least_similar_score:\n",
    "            least_similar_senator = other_senator_name\n",
    "            least_similar_score = similarity_score\n",
    "    return least_similar_senator"
   ]
  },
  {
   "cell_type": "markdown",
   "metadata": {},
   "source": [
    "**Task 2.12.5**: Use these procedures to figure out which senator is most like Rhode Island legend Lincoln Chafee. Then use these procedures to see who disagrees most with Pennsylvania’s Rick Santorum. Give their names."
   ]
  },
  {
   "cell_type": "code",
   "execution_count": 83,
   "metadata": {},
   "outputs": [
    {
     "name": "stdout",
     "output_type": "stream",
     "text": [
      "Most similar to Chafee is: Jeffords\n",
      "Least similar to Santorum is: Feingold\n"
     ]
    }
   ],
   "source": [
    "print('Most similar to Chafee is: ' + most_similar('Chafee', voting_dict))\n",
    "print('Least similar to Santorum is: ' + least_similar('Santorum', voting_dict))"
   ]
  },
  {
   "cell_type": "code",
   "execution_count": 79,
   "metadata": {},
   "outputs": [
    {
     "name": "stdout",
     "output_type": "stream",
     "text": [
      "[1, -1, 1, 1, 1, 1, -1, 1, 1, 1, 1, 1, 1, 1, 1, 1, 1, 1, 0, 1, 1, 1, 1, 1, 1]\n",
      "[1, -1, 1, -1, 1, 1, -1, 1, 1, 1, 1, 1, 1, 1, 1, 1, 1, 1, 1, 1, 1, 1, 1, 1, 1]\n"
     ]
    }
   ],
   "source": [
    "print(voting_dict['Chafee'][:25])\n",
    "print(voting_dict['Jeffords'][:25])"
   ]
  },
  {
   "cell_type": "code",
   "execution_count": 80,
   "metadata": {},
   "outputs": [
    {
     "name": "stdout",
     "output_type": "stream",
     "text": [
      "[0, 1, 1, 1, 1, 1, 1, 1, 1, 1, 1, -1, 1, 1, 1, 1, 1, 1, 1, 1, 1, 1, 1, -1, 1]\n",
      "[-1, -1, 1, -1, 1, -1, -1, -1, 1, 1, -1, 1, -1, 1, -1, 1, 1, 1, -1, 1, 1, 1, 1, 1, -1]\n"
     ]
    }
   ],
   "source": [
    "print(voting_dict['Santorum'][:25])\n",
    "print(voting_dict['Feingold'][:25])"
   ]
  },
  {
   "cell_type": "markdown",
   "metadata": {},
   "source": [
    "**Task 2.12.7**: Write a procedure find average similarity(sen, sen set, voting dict) that, given the name sen of a senator, compares that senator’s voting record to the voting records of all senators whose names are in sen set, computing a dot-product for each, and then returns the average dot-product.\n",
    "Use your procedure to compute which senator has the greatest average similarity with the set of Democrats (you can extract this set from the input file)."
   ]
  },
  {
   "cell_type": "code",
   "execution_count": 94,
   "metadata": {},
   "outputs": [],
   "source": [
    "def find_average_similarity(sen, sen_set, voting_dict):\n",
    "    return sum(map(lambda other_sen: policy_compare(sen, other_sen, voting_dict), sen_set)) / len(sen_set)"
   ]
  },
  {
   "cell_type": "code",
   "execution_count": 95,
   "metadata": {},
   "outputs": [],
   "source": [
    "democrat_senators = []\n",
    "for row in mylist:\n",
    "    if row.split()[1] == 'D':\n",
    "        democrat_senators.append(row.split()[0])"
   ]
  },
  {
   "cell_type": "code",
   "execution_count": 96,
   "metadata": {},
   "outputs": [
    {
     "name": "stdout",
     "output_type": "stream",
     "text": [
      "Wyden\n"
     ]
    }
   ],
   "source": [
    "sen_most_similar_to_democrats = None\n",
    "sen_most_similar_to_democrats_score = float('-Inf')\n",
    "for sen in voting_dict.keys():\n",
    "    average_similarity_to_dems = find_average_similarity(sen, democrat_senators, voting_dict)\n",
    "    if average_similarity_to_dems > sen_most_similar_to_democrats_score:\n",
    "        sen_most_similar_to_democrats = sen\n",
    "        sen_most_similar_to_democrats_socre = average_similarity_to_dems\n",
    "        \n",
    "print(sen_most_similar_to_democrats)"
   ]
  },
  {
   "cell_type": "markdown",
   "metadata": {},
   "source": [
    "**Task 2.12.8**: Write a procedure find average record(sen set, voting dict) that, given a set of names of senators, finds the average voting record. That is, perform vector addition on the lists representing their voting records, and then divide the sum by the number of vectors. The result should be a vector.\n",
    "Use this procedure to compute the average voting record for the set of Democrats, and assign the result to the variable average Democrat record. Next find which senator’s voting record is most similar to the average Democrat voting record. Did you get the same result as in Task 2.12.7? Can you explain?"
   ]
  },
  {
   "cell_type": "code",
   "execution_count": 103,
   "metadata": {},
   "outputs": [],
   "source": [
    "def find_average_record(sen_set, voting_dict):\n",
    "    running_sum = addn(voting_dict[sen_set[0]], voting_dict[sen_set[1]])\n",
    "    for sen in sen_set[2:]:\n",
    "        running_sum = addn(running_sum, voting_dict[sen])\n",
    "    return scalar_vector_mult(1.0/len(sen_set), running_sum)"
   ]
  },
  {
   "cell_type": "code",
   "execution_count": 105,
   "metadata": {},
   "outputs": [],
   "source": [
    "average_democrat_record = find_average_record(democrat_senators, voting_dict)"
   ]
  },
  {
   "cell_type": "code",
   "execution_count": 107,
   "metadata": {},
   "outputs": [
    {
     "name": "stdout",
     "output_type": "stream",
     "text": [
      "Biden\n"
     ]
    }
   ],
   "source": [
    "voting_dict_ext = voting_dict.copy()\n",
    "voting_dict_ext['average_democrat_record'] = average_democrat_record\n",
    "print(most_similar('average_democrat_record', voting_dict_ext))"
   ]
  }
 ],
 "metadata": {
  "kernelspec": {
   "display_name": "Python 2",
   "language": "python",
   "name": "python2"
  },
  "language_info": {
   "codemirror_mode": {
    "name": "ipython",
    "version": 3
   },
   "file_extension": ".py",
   "mimetype": "text/x-python",
   "name": "python",
   "nbconvert_exporter": "python",
   "pygments_lexer": "ipython3",
   "version": "3.6.2"
  }
 },
 "nbformat": 4,
 "nbformat_minor": 2
}
